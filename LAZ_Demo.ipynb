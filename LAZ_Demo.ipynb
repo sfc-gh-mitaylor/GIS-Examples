{
 "cells": [
  {
   "cell_type": "code",
   "execution_count": 1,
   "id": "b4842b5c",
   "metadata": {},
   "outputs": [],
   "source": [
    "# import laspy\n",
    "import json\n",
    "import numpy as np\n",
    "from snowflake.snowpark.session import Session\n",
    "from snowflake.snowpark.functions import sproc, col, round\n",
    "import snowflake.snowpark.functions as F\n",
    "import snowflake.snowpark.types as T\n",
    "import pandas as pd\n",
    "import os\n",
    "import sys\n",
    "import laspy"
   ]
  },
  {
   "cell_type": "markdown",
   "id": "7cec5517-d5f4-4cb8-9969-e6b41bd7a3c6",
   "metadata": {},
   "source": [
    "Classification value\tMeaning\n",
    "0 Never classified\n",
    "\n",
    "1 Unassigned\n",
    "\n",
    "2 Ground\n",
    "\n",
    "3 Low Vegetation\n",
    "\n",
    "4 Medium Vegetation\n",
    "\n",
    "5 High Vegetation\n",
    "\n",
    "6 Building\n",
    "\n",
    "7 Low Point\n",
    "\n",
    "8 Reserved\n",
    "\n",
    "9 Water\n",
    "\n",
    "10 Rail\n",
    "\n",
    "11 Road Surface\n",
    "\n",
    "12 Reserved\n",
    "\n",
    "13 Wire - Guard (Shield)\n",
    "\n",
    "14 Wire - Conductor (Phase)\n",
    "\n",
    "15 Transmission Tower\n",
    "\n",
    "16 Wire-Structure Connector (Insulator)\n",
    "\n",
    "17 Bridge Deck\n",
    "\n",
    "18 High Noise"
   ]
  },
  {
   "cell_type": "markdown",
   "id": "887c6faf-c8aa-4ee9-90f2-d438e606d0a3",
   "metadata": {},
   "source": [
    "# Create Snowflake Connections and Stages"
   ]
  },
  {
   "cell_type": "code",
   "execution_count": 10,
   "id": "6391de2f-e895-4fad-a835-e34a294ce1f4",
   "metadata": {},
   "outputs": [
    {
     "data": {
      "text/plain": [
       "[Row(status='Statement executed successfully.')]"
      ]
     },
     "execution_count": 10,
     "metadata": {},
     "output_type": "execute_result"
    }
   ],
   "source": [
    "snowflake_connection_cfg = json.loads(open(\"/Users/mitaylor/Documents/creds/creds.json\").read())\n",
    "aws_connection_cfg = json.loads(open(\"/Users/mitaylor/Documents/creds/aws_creds.json\").read())\n",
    "\n",
    "AWS_SECRET_KEY = aws_connection_cfg['password']\n",
    "AWS_KEY_ID = aws_connection_cfg['account']\n",
    "# Creating Snowpark Session\n",
    "session = Session.builder.configs(snowflake_connection_cfg).create()\n",
    "\n",
    "# Create a virtual warehouse, db and a stage for our ML models\n",
    "session.sql(\"CREATE OR REPLACE WAREHOUSE LAZ_VH WITH WAREHOUSE_SIZE='X-SMALL'\").collect()\n",
    "session.sql(\"USE DATABASE LAZ_DB\").collect()\n",
    "#session.sql(\"CREATE OR REPLACE DATABASE LAZ_DB\").collect()\n",
    "#session.sql(\"CREATE OR REPLACE STAGE PIPELINE\").collect()"
   ]
  },
  {
   "cell_type": "markdown",
   "id": "57cd37e0-f049-4b31-a9ee-e68f3a5a76c3",
   "metadata": {},
   "source": [
    "## Create External Stage"
   ]
  },
  {
   "cell_type": "code",
   "execution_count": 59,
   "id": "f1b99270-94f2-4249-a8f3-7d3c00080739",
   "metadata": {},
   "outputs": [
    {
     "data": {
      "text/plain": [
       "[Row(status='Stage area LAZ_S3_STAGE successfully created.')]"
      ]
     },
     "execution_count": 59,
     "metadata": {},
     "output_type": "execute_result"
    }
   ],
   "source": [
    "# Create our external stages (in S3)\n",
    "session.use_schema('PUBLIC')\n",
    "session.sql(f\"\"\"\n",
    "CREATE OR REPLACE STAGE LAZ_S3_STAGE \n",
    "URL = 's3://mtaylor-raw-data-store/laz'\n",
    "CREDENTIALS = (AWS_KEY_ID = '{AWS_KEY_ID}'  AWS_SECRET_KEY = '{AWS_SECRET_KEY}')\n",
    "file_format = (type = 'CSV' field_delimiter = ',');\n",
    "\"\"\").collect()"
   ]
  },
  {
   "cell_type": "markdown",
   "id": "4dd9ef54-9ac0-44c6-ab9c-64b2e0c60d42",
   "metadata": {
    "tags": []
   },
   "source": [
    "### and check what's in it..."
   ]
  },
  {
   "cell_type": "markdown",
   "id": "1eea73cb-a00e-436f-a357-da588f742baf",
   "metadata": {
    "tags": []
   },
   "source": [
    "# Read and Clean LAZ File locally, just to see what we're dealing with"
   ]
  },
  {
   "cell_type": "code",
   "execution_count": 4,
   "id": "402d335a-aafe-44c1-986f-f33648032392",
   "metadata": {},
   "outputs": [
    {
     "data": {
      "text/html": [
       "<div>\n",
       "<style scoped>\n",
       "    .dataframe tbody tr th:only-of-type {\n",
       "        vertical-align: middle;\n",
       "    }\n",
       "\n",
       "    .dataframe tbody tr th {\n",
       "        vertical-align: top;\n",
       "    }\n",
       "\n",
       "    .dataframe thead th {\n",
       "        text-align: right;\n",
       "    }\n",
       "</style>\n",
       "<table border=\"1\" class=\"dataframe\">\n",
       "  <thead>\n",
       "    <tr style=\"text-align: right;\">\n",
       "      <th></th>\n",
       "      <th>x</th>\n",
       "      <th>y</th>\n",
       "      <th>z</th>\n",
       "      <th>intensity</th>\n",
       "      <th>classification</th>\n",
       "      <th>scan_angle_rank</th>\n",
       "    </tr>\n",
       "  </thead>\n",
       "  <tbody>\n",
       "    <tr>\n",
       "      <th>0</th>\n",
       "      <td>520817.34</td>\n",
       "      <td>181342.31</td>\n",
       "      <td>33.75</td>\n",
       "      <td>10.0</td>\n",
       "      <td>8.0</td>\n",
       "      <td>-22.0</td>\n",
       "    </tr>\n",
       "    <tr>\n",
       "      <th>1</th>\n",
       "      <td>520817.15</td>\n",
       "      <td>181343.70</td>\n",
       "      <td>34.80</td>\n",
       "      <td>94.0</td>\n",
       "      <td>4.0</td>\n",
       "      <td>-22.0</td>\n",
       "    </tr>\n",
       "    <tr>\n",
       "      <th>2</th>\n",
       "      <td>520817.15</td>\n",
       "      <td>181344.25</td>\n",
       "      <td>33.79</td>\n",
       "      <td>52.0</td>\n",
       "      <td>2.0</td>\n",
       "      <td>-22.0</td>\n",
       "    </tr>\n",
       "    <tr>\n",
       "      <th>3</th>\n",
       "      <td>520817.06</td>\n",
       "      <td>181345.25</td>\n",
       "      <td>33.87</td>\n",
       "      <td>60.0</td>\n",
       "      <td>8.0</td>\n",
       "      <td>-22.0</td>\n",
       "    </tr>\n",
       "    <tr>\n",
       "      <th>4</th>\n",
       "      <td>520816.98</td>\n",
       "      <td>181346.20</td>\n",
       "      <td>33.82</td>\n",
       "      <td>62.0</td>\n",
       "      <td>3.0</td>\n",
       "      <td>-22.0</td>\n",
       "    </tr>\n",
       "    <tr>\n",
       "      <th>...</th>\n",
       "      <td>...</td>\n",
       "      <td>...</td>\n",
       "      <td>...</td>\n",
       "      <td>...</td>\n",
       "      <td>...</td>\n",
       "      <td>...</td>\n",
       "    </tr>\n",
       "    <tr>\n",
       "      <th>3461446</th>\n",
       "      <td>521998.15</td>\n",
       "      <td>181999.46</td>\n",
       "      <td>23.68</td>\n",
       "      <td>54.0</td>\n",
       "      <td>4.0</td>\n",
       "      <td>4.0</td>\n",
       "    </tr>\n",
       "    <tr>\n",
       "      <th>3461447</th>\n",
       "      <td>521998.96</td>\n",
       "      <td>181999.57</td>\n",
       "      <td>29.13</td>\n",
       "      <td>15.0</td>\n",
       "      <td>5.0</td>\n",
       "      <td>4.0</td>\n",
       "    </tr>\n",
       "    <tr>\n",
       "      <th>3461448</th>\n",
       "      <td>521999.68</td>\n",
       "      <td>181998.93</td>\n",
       "      <td>30.49</td>\n",
       "      <td>15.0</td>\n",
       "      <td>5.0</td>\n",
       "      <td>4.0</td>\n",
       "    </tr>\n",
       "    <tr>\n",
       "      <th>3461449</th>\n",
       "      <td>521999.50</td>\n",
       "      <td>181999.47</td>\n",
       "      <td>23.61</td>\n",
       "      <td>22.0</td>\n",
       "      <td>4.0</td>\n",
       "      <td>4.0</td>\n",
       "    </tr>\n",
       "    <tr>\n",
       "      <th>3461450</th>\n",
       "      <td>521999.92</td>\n",
       "      <td>181999.81</td>\n",
       "      <td>31.26</td>\n",
       "      <td>10.0</td>\n",
       "      <td>5.0</td>\n",
       "      <td>4.0</td>\n",
       "    </tr>\n",
       "  </tbody>\n",
       "</table>\n",
       "<p>3461451 rows × 6 columns</p>\n",
       "</div>"
      ],
      "text/plain": [
       "                 x          y      z  intensity  classification  \\\n",
       "0        520817.34  181342.31  33.75       10.0             8.0   \n",
       "1        520817.15  181343.70  34.80       94.0             4.0   \n",
       "2        520817.15  181344.25  33.79       52.0             2.0   \n",
       "3        520817.06  181345.25  33.87       60.0             8.0   \n",
       "4        520816.98  181346.20  33.82       62.0             3.0   \n",
       "...            ...        ...    ...        ...             ...   \n",
       "3461446  521998.15  181999.46  23.68       54.0             4.0   \n",
       "3461447  521998.96  181999.57  29.13       15.0             5.0   \n",
       "3461448  521999.68  181998.93  30.49       15.0             5.0   \n",
       "3461449  521999.50  181999.47  23.61       22.0             4.0   \n",
       "3461450  521999.92  181999.81  31.26       10.0             5.0   \n",
       "\n",
       "         scan_angle_rank  \n",
       "0                  -22.0  \n",
       "1                  -22.0  \n",
       "2                  -22.0  \n",
       "3                  -22.0  \n",
       "4                  -22.0  \n",
       "...                  ...  \n",
       "3461446              4.0  \n",
       "3461447              4.0  \n",
       "3461448              4.0  \n",
       "3461449              4.0  \n",
       "3461450              4.0  \n",
       "\n",
       "[3461451 rows x 6 columns]"
      ]
     },
     "execution_count": 4,
     "metadata": {},
     "output_type": "execute_result"
    }
   ],
   "source": [
    "#Read LAS file\n",
    "inFile = laspy.read('/Users/mitaylor/Documents/Sandbox/Zurich/LIDAR/LAS_FILES/TQ2080_P_9983_20150206_20150206.laz')\n",
    "\n",
    "#Import LAS into numpy array (X=raw integer value x=scaled float value)\n",
    "lidar_points = np.array((inFile.x,inFile.y,inFile.z,inFile.intensity,\n",
    "               inFile.raw_classification,inFile.scan_angle_rank)).transpose()\n",
    "\n",
    "#Transform to pandas DataFrame\n",
    "lidar_df=pd.DataFrame(lidar_points, columns=[\"x\",\"y\",\"z\",\"intensity\",\"classification\", \"scan_angle_rank\"])\n",
    "lidar_df"
   ]
  },
  {
   "cell_type": "markdown",
   "id": "0403160f-342a-411b-8075-4f9e5b511a05",
   "metadata": {},
   "source": [
    "## And fix the easting Northing \"Issue\""
   ]
  },
  {
   "cell_type": "code",
   "execution_count": 5,
   "id": "b442ae1f-1210-4f0b-acbb-16e758bb706e",
   "metadata": {},
   "outputs": [
    {
     "name": "stderr",
     "output_type": "stream",
     "text": [
      "/Users/mitaylor/opt/anaconda3/envs/snowpark_gis/lib/python3.8/site-packages/pyproj/crs/crs.py:141: FutureWarning: '+init=<authority>:<code>' syntax is deprecated. '<authority>:<code>' is the preferred initialization method. When making the change, be mindful of axis order changes: https://pyproj4.github.io/pyproj/stable/gotchas.html#axis-order-changes-in-proj-6\n",
      "  in_crs_string = _prepare_from_proj_string(in_crs_string)\n",
      "/var/folders/97/8vc6xcbx4zd06p75xg9frdrw0000gn/T/ipykernel_27606/2713558150.py:14: FutureWarning: This function is deprecated. See: https://pyproj4.github.io/pyproj/stable/gotchas.html#upgrading-to-pyproj-2-from-pyproj-1\n",
      "  converted = transform(v36, v84, vlon36, vlat36)\n"
     ]
    },
    {
     "data": {
      "text/html": [
       "<div>\n",
       "<style scoped>\n",
       "    .dataframe tbody tr th:only-of-type {\n",
       "        vertical-align: middle;\n",
       "    }\n",
       "\n",
       "    .dataframe tbody tr th {\n",
       "        vertical-align: top;\n",
       "    }\n",
       "\n",
       "    .dataframe thead th {\n",
       "        text-align: right;\n",
       "    }\n",
       "</style>\n",
       "<table border=\"1\" class=\"dataframe\">\n",
       "  <thead>\n",
       "    <tr style=\"text-align: right;\">\n",
       "      <th></th>\n",
       "      <th>x</th>\n",
       "      <th>y</th>\n",
       "      <th>z</th>\n",
       "      <th>intensity</th>\n",
       "      <th>classification</th>\n",
       "      <th>scan_angle_rank</th>\n",
       "      <th>longitude</th>\n",
       "      <th>latitude</th>\n",
       "    </tr>\n",
       "  </thead>\n",
       "  <tbody>\n",
       "    <tr>\n",
       "      <th>0</th>\n",
       "      <td>520817.34</td>\n",
       "      <td>181342.31</td>\n",
       "      <td>33.75</td>\n",
       "      <td>10.0</td>\n",
       "      <td>8.0</td>\n",
       "      <td>-22.0</td>\n",
       "      <td>-0.260130</td>\n",
       "      <td>51.518090</td>\n",
       "    </tr>\n",
       "    <tr>\n",
       "      <th>1</th>\n",
       "      <td>520817.15</td>\n",
       "      <td>181343.70</td>\n",
       "      <td>34.80</td>\n",
       "      <td>94.0</td>\n",
       "      <td>4.0</td>\n",
       "      <td>-22.0</td>\n",
       "      <td>-0.260132</td>\n",
       "      <td>51.518103</td>\n",
       "    </tr>\n",
       "    <tr>\n",
       "      <th>2</th>\n",
       "      <td>520817.15</td>\n",
       "      <td>181344.25</td>\n",
       "      <td>33.79</td>\n",
       "      <td>52.0</td>\n",
       "      <td>2.0</td>\n",
       "      <td>-22.0</td>\n",
       "      <td>-0.260132</td>\n",
       "      <td>51.518108</td>\n",
       "    </tr>\n",
       "    <tr>\n",
       "      <th>3</th>\n",
       "      <td>520817.06</td>\n",
       "      <td>181345.25</td>\n",
       "      <td>33.87</td>\n",
       "      <td>60.0</td>\n",
       "      <td>8.0</td>\n",
       "      <td>-22.0</td>\n",
       "      <td>-0.260133</td>\n",
       "      <td>51.518117</td>\n",
       "    </tr>\n",
       "    <tr>\n",
       "      <th>4</th>\n",
       "      <td>520816.98</td>\n",
       "      <td>181346.20</td>\n",
       "      <td>33.82</td>\n",
       "      <td>62.0</td>\n",
       "      <td>3.0</td>\n",
       "      <td>-22.0</td>\n",
       "      <td>-0.260134</td>\n",
       "      <td>51.518125</td>\n",
       "    </tr>\n",
       "    <tr>\n",
       "      <th>...</th>\n",
       "      <td>...</td>\n",
       "      <td>...</td>\n",
       "      <td>...</td>\n",
       "      <td>...</td>\n",
       "      <td>...</td>\n",
       "      <td>...</td>\n",
       "      <td>...</td>\n",
       "      <td>...</td>\n",
       "    </tr>\n",
       "    <tr>\n",
       "      <th>3461446</th>\n",
       "      <td>521998.15</td>\n",
       "      <td>181999.46</td>\n",
       "      <td>23.68</td>\n",
       "      <td>54.0</td>\n",
       "      <td>4.0</td>\n",
       "      <td>4.0</td>\n",
       "      <td>-0.242893</td>\n",
       "      <td>51.523743</td>\n",
       "    </tr>\n",
       "    <tr>\n",
       "      <th>3461447</th>\n",
       "      <td>521998.96</td>\n",
       "      <td>181999.57</td>\n",
       "      <td>29.13</td>\n",
       "      <td>15.0</td>\n",
       "      <td>5.0</td>\n",
       "      <td>4.0</td>\n",
       "      <td>-0.242881</td>\n",
       "      <td>51.523743</td>\n",
       "    </tr>\n",
       "    <tr>\n",
       "      <th>3461448</th>\n",
       "      <td>521999.68</td>\n",
       "      <td>181998.93</td>\n",
       "      <td>30.49</td>\n",
       "      <td>15.0</td>\n",
       "      <td>5.0</td>\n",
       "      <td>4.0</td>\n",
       "      <td>-0.242871</td>\n",
       "      <td>51.523738</td>\n",
       "    </tr>\n",
       "    <tr>\n",
       "      <th>3461449</th>\n",
       "      <td>521999.50</td>\n",
       "      <td>181999.47</td>\n",
       "      <td>23.61</td>\n",
       "      <td>22.0</td>\n",
       "      <td>4.0</td>\n",
       "      <td>4.0</td>\n",
       "      <td>-0.242874</td>\n",
       "      <td>51.523742</td>\n",
       "    </tr>\n",
       "    <tr>\n",
       "      <th>3461450</th>\n",
       "      <td>521999.92</td>\n",
       "      <td>181999.81</td>\n",
       "      <td>31.26</td>\n",
       "      <td>10.0</td>\n",
       "      <td>5.0</td>\n",
       "      <td>4.0</td>\n",
       "      <td>-0.242867</td>\n",
       "      <td>51.523745</td>\n",
       "    </tr>\n",
       "  </tbody>\n",
       "</table>\n",
       "<p>3461451 rows × 8 columns</p>\n",
       "</div>"
      ],
      "text/plain": [
       "                 x          y      z  intensity  classification  \\\n",
       "0        520817.34  181342.31  33.75       10.0             8.0   \n",
       "1        520817.15  181343.70  34.80       94.0             4.0   \n",
       "2        520817.15  181344.25  33.79       52.0             2.0   \n",
       "3        520817.06  181345.25  33.87       60.0             8.0   \n",
       "4        520816.98  181346.20  33.82       62.0             3.0   \n",
       "...            ...        ...    ...        ...             ...   \n",
       "3461446  521998.15  181999.46  23.68       54.0             4.0   \n",
       "3461447  521998.96  181999.57  29.13       15.0             5.0   \n",
       "3461448  521999.68  181998.93  30.49       15.0             5.0   \n",
       "3461449  521999.50  181999.47  23.61       22.0             4.0   \n",
       "3461450  521999.92  181999.81  31.26       10.0             5.0   \n",
       "\n",
       "         scan_angle_rank  longitude   latitude  \n",
       "0                  -22.0  -0.260130  51.518090  \n",
       "1                  -22.0  -0.260132  51.518103  \n",
       "2                  -22.0  -0.260132  51.518108  \n",
       "3                  -22.0  -0.260133  51.518117  \n",
       "4                  -22.0  -0.260134  51.518125  \n",
       "...                  ...        ...        ...  \n",
       "3461446              4.0  -0.242893  51.523743  \n",
       "3461447              4.0  -0.242881  51.523743  \n",
       "3461448              4.0  -0.242871  51.523738  \n",
       "3461449              4.0  -0.242874  51.523742  \n",
       "3461450              4.0  -0.242867  51.523745  \n",
       "\n",
       "[3461451 rows x 8 columns]"
      ]
     },
     "execution_count": 5,
     "metadata": {},
     "output_type": "execute_result"
    }
   ],
   "source": [
    "from pyproj import Proj, transform\n",
    "import pandas as pd\n",
    "\n",
    "\n",
    "v84 = Proj(proj=\"latlong\",towgs84=\"0,0,0\",ellps=\"WGS84\")\n",
    "v36 = Proj(proj=\"latlong\", k=0.9996012717, ellps=\"airy\",\n",
    "        towgs84=\"446.448,-125.157,542.060,0.1502,0.2470,0.8421,-20.4894\")\n",
    "vgrid = Proj(init=\"world:bng\")\n",
    "\n",
    "def vectorized_convert(df):\n",
    "    vlon36, vlat36 = vgrid(df['x'].values, \n",
    "                           df['y'].values, \n",
    "                           inverse=True)\n",
    "    converted = transform(v36, v84, vlon36, vlat36)\n",
    "    df['longitude'] = converted[0]\n",
    "    df['latitude'] = converted[1]\n",
    "    return df\n",
    "\n",
    "vectorized_convert(lidar_df)"
   ]
  },
  {
   "cell_type": "code",
   "execution_count": 6,
   "id": "7b17070b-beda-4d85-8ce1-dc1d6c4fe013",
   "metadata": {},
   "outputs": [
    {
     "data": {
      "text/html": [
       "<div>\n",
       "<style scoped>\n",
       "    .dataframe tbody tr th:only-of-type {\n",
       "        vertical-align: middle;\n",
       "    }\n",
       "\n",
       "    .dataframe tbody tr th {\n",
       "        vertical-align: top;\n",
       "    }\n",
       "\n",
       "    .dataframe thead th {\n",
       "        text-align: right;\n",
       "    }\n",
       "</style>\n",
       "<table border=\"1\" class=\"dataframe\">\n",
       "  <thead>\n",
       "    <tr style=\"text-align: right;\">\n",
       "      <th></th>\n",
       "      <th>name</th>\n",
       "      <th>size</th>\n",
       "      <th>md5</th>\n",
       "      <th>last_modified</th>\n",
       "    </tr>\n",
       "  </thead>\n",
       "  <tbody>\n",
       "    <tr>\n",
       "      <th>0</th>\n",
       "      <td>s3://mtaylor-raw-data-store/laz/TQ2080_P_9983_...</td>\n",
       "      <td>12135892</td>\n",
       "      <td>160f236219c5b34354508702cde549a2</td>\n",
       "      <td>Mon, 31 Jul 2023 14:25:11 GMT</td>\n",
       "    </tr>\n",
       "    <tr>\n",
       "      <th>1</th>\n",
       "      <td>s3://mtaylor-raw-data-store/laz/TQ2082_P_9983_...</td>\n",
       "      <td>11113655</td>\n",
       "      <td>4dba0ace4ccbfa21f825fda13b2f3a8c</td>\n",
       "      <td>Mon, 31 Jul 2023 14:27:51 GMT</td>\n",
       "    </tr>\n",
       "    <tr>\n",
       "      <th>2</th>\n",
       "      <td>s3://mtaylor-raw-data-store/laz/TQ2084_P_9983_...</td>\n",
       "      <td>552357</td>\n",
       "      <td>c89abbdf9da9e25a2b232210447b436f</td>\n",
       "      <td>Mon, 31 Jul 2023 14:27:31 GMT</td>\n",
       "    </tr>\n",
       "    <tr>\n",
       "      <th>3</th>\n",
       "      <td>s3://mtaylor-raw-data-store/laz/TQ2280_P_9983_...</td>\n",
       "      <td>7218310</td>\n",
       "      <td>664d0c2b9963ba7d32ecc2fdd983ea92</td>\n",
       "      <td>Mon, 31 Jul 2023 14:27:16 GMT</td>\n",
       "    </tr>\n",
       "    <tr>\n",
       "      <th>4</th>\n",
       "      <td>s3://mtaylor-raw-data-store/laz/TQ2282_P_9983_...</td>\n",
       "      <td>35108512</td>\n",
       "      <td>fb084d58a1acc43f890fffb8d54c2f45-3</td>\n",
       "      <td>Mon, 31 Jul 2023 14:25:07 GMT</td>\n",
       "    </tr>\n",
       "    <tr>\n",
       "      <th>5</th>\n",
       "      <td>s3://mtaylor-raw-data-store/laz/TQ2284_P_9983_...</td>\n",
       "      <td>28803653</td>\n",
       "      <td>2b3c1ab85886e00b32c421be1c986d61-2</td>\n",
       "      <td>Mon, 31 Jul 2023 14:25:07 GMT</td>\n",
       "    </tr>\n",
       "    <tr>\n",
       "      <th>6</th>\n",
       "      <td>s3://mtaylor-raw-data-store/laz/TQ2286_P_9983_...</td>\n",
       "      <td>4307912</td>\n",
       "      <td>1a092a0fd37d105f377f55752998c0d1</td>\n",
       "      <td>Mon, 31 Jul 2023 14:26:17 GMT</td>\n",
       "    </tr>\n",
       "    <tr>\n",
       "      <th>7</th>\n",
       "      <td>s3://mtaylor-raw-data-store/laz/TQ2480_P_9983_...</td>\n",
       "      <td>1785829</td>\n",
       "      <td>212a25b22399d38bdb196017775a2e6a</td>\n",
       "      <td>Mon, 31 Jul 2023 14:25:54 GMT</td>\n",
       "    </tr>\n",
       "    <tr>\n",
       "      <th>8</th>\n",
       "      <td>s3://mtaylor-raw-data-store/laz/TQ2482_P_9983_...</td>\n",
       "      <td>32291531</td>\n",
       "      <td>5f90b411dc664c6c47307c240c560de3-2</td>\n",
       "      <td>Mon, 31 Jul 2023 14:25:07 GMT</td>\n",
       "    </tr>\n",
       "    <tr>\n",
       "      <th>9</th>\n",
       "      <td>s3://mtaylor-raw-data-store/laz/TQ2484_P_9983_...</td>\n",
       "      <td>38356034</td>\n",
       "      <td>57f4e2ee6d8a614bfca178928d2df930-3</td>\n",
       "      <td>Mon, 31 Jul 2023 14:25:07 GMT</td>\n",
       "    </tr>\n",
       "    <tr>\n",
       "      <th>10</th>\n",
       "      <td>s3://mtaylor-raw-data-store/laz/TQ2486_P_9983_...</td>\n",
       "      <td>35477403</td>\n",
       "      <td>5a3e94138bcf89b0d914e6f9006ad330-3</td>\n",
       "      <td>Mon, 31 Jul 2023 14:25:07 GMT</td>\n",
       "    </tr>\n",
       "    <tr>\n",
       "      <th>11</th>\n",
       "      <td>s3://mtaylor-raw-data-store/laz/TQ2488_P_9983_...</td>\n",
       "      <td>15962526</td>\n",
       "      <td>bb746cc93f2e9be9b80be4c455950479</td>\n",
       "      <td>Mon, 31 Jul 2023 14:25:24 GMT</td>\n",
       "    </tr>\n",
       "    <tr>\n",
       "      <th>12</th>\n",
       "      <td>s3://mtaylor-raw-data-store/laz/TQ2680_P_9983_...</td>\n",
       "      <td>1872869</td>\n",
       "      <td>be2f859d99bd27e5fc8382babf1e25b3</td>\n",
       "      <td>Mon, 31 Jul 2023 14:25:21 GMT</td>\n",
       "    </tr>\n",
       "    <tr>\n",
       "      <th>13</th>\n",
       "      <td>s3://mtaylor-raw-data-store/laz/TQ2682_P_9983_...</td>\n",
       "      <td>33857032</td>\n",
       "      <td>64538aad8ce51fdae03957b3fa84760b-2</td>\n",
       "      <td>Mon, 31 Jul 2023 14:25:07 GMT</td>\n",
       "    </tr>\n",
       "    <tr>\n",
       "      <th>14</th>\n",
       "      <td>s3://mtaylor-raw-data-store/laz/TQ2684_P_9983_...</td>\n",
       "      <td>40341865</td>\n",
       "      <td>17fdc9bf5e249683ba6f5e48ba5605f5-3</td>\n",
       "      <td>Mon, 31 Jul 2023 14:25:07 GMT</td>\n",
       "    </tr>\n",
       "    <tr>\n",
       "      <th>15</th>\n",
       "      <td>s3://mtaylor-raw-data-store/laz/TQ2686_P_9983_...</td>\n",
       "      <td>51336295</td>\n",
       "      <td>c19d83d7406296b118de0ba691a90b27-3</td>\n",
       "      <td>Mon, 31 Jul 2023 14:25:07 GMT</td>\n",
       "    </tr>\n",
       "    <tr>\n",
       "      <th>16</th>\n",
       "      <td>s3://mtaylor-raw-data-store/laz/TQ2688_P_9983_...</td>\n",
       "      <td>44214070</td>\n",
       "      <td>199cfccad4372ad97c202314ecaf24e0-3</td>\n",
       "      <td>Mon, 31 Jul 2023 14:25:07 GMT</td>\n",
       "    </tr>\n",
       "    <tr>\n",
       "      <th>17</th>\n",
       "      <td>s3://mtaylor-raw-data-store/laz/TQ2880_P_9983_...</td>\n",
       "      <td>1831013</td>\n",
       "      <td>845784f36e3d949f96669efa26ff53f8</td>\n",
       "      <td>Mon, 31 Jul 2023 14:25:16 GMT</td>\n",
       "    </tr>\n",
       "    <tr>\n",
       "      <th>18</th>\n",
       "      <td>s3://mtaylor-raw-data-store/laz/TQ2882_P_9983_...</td>\n",
       "      <td>32866740</td>\n",
       "      <td>26f001ca429dd21df8da38d338b40a0f-2</td>\n",
       "      <td>Mon, 31 Jul 2023 14:25:07 GMT</td>\n",
       "    </tr>\n",
       "    <tr>\n",
       "      <th>19</th>\n",
       "      <td>s3://mtaylor-raw-data-store/laz/TQ2884_P_9983_...</td>\n",
       "      <td>36206441</td>\n",
       "      <td>35d8533b7b4c30198bf5732e964daa3d-3</td>\n",
       "      <td>Mon, 31 Jul 2023 14:25:07 GMT</td>\n",
       "    </tr>\n",
       "    <tr>\n",
       "      <th>20</th>\n",
       "      <td>s3://mtaylor-raw-data-store/laz/TQ2886_P_9983_...</td>\n",
       "      <td>38799934</td>\n",
       "      <td>14fe24027c5ac478f70410dbefe0d4b6-3</td>\n",
       "      <td>Mon, 31 Jul 2023 14:25:07 GMT</td>\n",
       "    </tr>\n",
       "    <tr>\n",
       "      <th>21</th>\n",
       "      <td>s3://mtaylor-raw-data-store/laz/TQ2888_P_9983_...</td>\n",
       "      <td>67542382</td>\n",
       "      <td>596aa701bb5869797e9b9b078ebd9d85-4</td>\n",
       "      <td>Mon, 31 Jul 2023 14:25:07 GMT</td>\n",
       "    </tr>\n",
       "    <tr>\n",
       "      <th>22</th>\n",
       "      <td>s3://mtaylor-raw-data-store/laz/TQ3080_P_9983_...</td>\n",
       "      <td>2007287</td>\n",
       "      <td>89cfacf9dd29108abb21f4511593895c</td>\n",
       "      <td>Mon, 31 Jul 2023 14:25:15 GMT</td>\n",
       "    </tr>\n",
       "    <tr>\n",
       "      <th>23</th>\n",
       "      <td>s3://mtaylor-raw-data-store/laz/TQ3082_P_9983_...</td>\n",
       "      <td>31904006</td>\n",
       "      <td>0c28ea5996f1b13d63ef070764740904-2</td>\n",
       "      <td>Mon, 31 Jul 2023 14:25:07 GMT</td>\n",
       "    </tr>\n",
       "    <tr>\n",
       "      <th>24</th>\n",
       "      <td>s3://mtaylor-raw-data-store/laz/TQ3084_P_9983_...</td>\n",
       "      <td>37173291</td>\n",
       "      <td>002701dd61cd49b644f9cb10a41c4357-3</td>\n",
       "      <td>Mon, 31 Jul 2023 14:25:07 GMT</td>\n",
       "    </tr>\n",
       "    <tr>\n",
       "      <th>25</th>\n",
       "      <td>s3://mtaylor-raw-data-store/laz/TQ3280_P_9983_...</td>\n",
       "      <td>1751509</td>\n",
       "      <td>3825c206466c5e017876046683a11791</td>\n",
       "      <td>Mon, 31 Jul 2023 14:25:14 GMT</td>\n",
       "    </tr>\n",
       "    <tr>\n",
       "      <th>26</th>\n",
       "      <td>s3://mtaylor-raw-data-store/laz/TQ3282_P_9983_...</td>\n",
       "      <td>30164491</td>\n",
       "      <td>6cd14c9b576751d337d446376399c2c7-2</td>\n",
       "      <td>Mon, 31 Jul 2023 14:25:07 GMT</td>\n",
       "    </tr>\n",
       "    <tr>\n",
       "      <th>27</th>\n",
       "      <td>s3://mtaylor-raw-data-store/laz/TQ3284_P_9983_...</td>\n",
       "      <td>37213978</td>\n",
       "      <td>709ef1ce364c38fd772b51a822db8657-3</td>\n",
       "      <td>Mon, 31 Jul 2023 14:25:07 GMT</td>\n",
       "    </tr>\n",
       "    <tr>\n",
       "      <th>28</th>\n",
       "      <td>s3://mtaylor-raw-data-store/laz/TQ3480_P_9983_...</td>\n",
       "      <td>1891951</td>\n",
       "      <td>061415b7f07ae3e0a7b8b23ab8d2db95</td>\n",
       "      <td>Mon, 31 Jul 2023 14:25:13 GMT</td>\n",
       "    </tr>\n",
       "    <tr>\n",
       "      <th>29</th>\n",
       "      <td>s3://mtaylor-raw-data-store/laz/TQ3482_P_9983_...</td>\n",
       "      <td>29656131</td>\n",
       "      <td>a258715cde6341e623828ce5bdcd79d3-2</td>\n",
       "      <td>Mon, 31 Jul 2023 14:25:07 GMT</td>\n",
       "    </tr>\n",
       "    <tr>\n",
       "      <th>30</th>\n",
       "      <td>s3://mtaylor-raw-data-store/laz/TQ3484_P_9983_...</td>\n",
       "      <td>18898336</td>\n",
       "      <td>af6fe954a7b91bd694591be4255bc3d4-2</td>\n",
       "      <td>Mon, 31 Jul 2023 14:25:07 GMT</td>\n",
       "    </tr>\n",
       "  </tbody>\n",
       "</table>\n",
       "</div>"
      ],
      "text/plain": [
       "                                                 name      size  \\\n",
       "0   s3://mtaylor-raw-data-store/laz/TQ2080_P_9983_...  12135892   \n",
       "1   s3://mtaylor-raw-data-store/laz/TQ2082_P_9983_...  11113655   \n",
       "2   s3://mtaylor-raw-data-store/laz/TQ2084_P_9983_...    552357   \n",
       "3   s3://mtaylor-raw-data-store/laz/TQ2280_P_9983_...   7218310   \n",
       "4   s3://mtaylor-raw-data-store/laz/TQ2282_P_9983_...  35108512   \n",
       "5   s3://mtaylor-raw-data-store/laz/TQ2284_P_9983_...  28803653   \n",
       "6   s3://mtaylor-raw-data-store/laz/TQ2286_P_9983_...   4307912   \n",
       "7   s3://mtaylor-raw-data-store/laz/TQ2480_P_9983_...   1785829   \n",
       "8   s3://mtaylor-raw-data-store/laz/TQ2482_P_9983_...  32291531   \n",
       "9   s3://mtaylor-raw-data-store/laz/TQ2484_P_9983_...  38356034   \n",
       "10  s3://mtaylor-raw-data-store/laz/TQ2486_P_9983_...  35477403   \n",
       "11  s3://mtaylor-raw-data-store/laz/TQ2488_P_9983_...  15962526   \n",
       "12  s3://mtaylor-raw-data-store/laz/TQ2680_P_9983_...   1872869   \n",
       "13  s3://mtaylor-raw-data-store/laz/TQ2682_P_9983_...  33857032   \n",
       "14  s3://mtaylor-raw-data-store/laz/TQ2684_P_9983_...  40341865   \n",
       "15  s3://mtaylor-raw-data-store/laz/TQ2686_P_9983_...  51336295   \n",
       "16  s3://mtaylor-raw-data-store/laz/TQ2688_P_9983_...  44214070   \n",
       "17  s3://mtaylor-raw-data-store/laz/TQ2880_P_9983_...   1831013   \n",
       "18  s3://mtaylor-raw-data-store/laz/TQ2882_P_9983_...  32866740   \n",
       "19  s3://mtaylor-raw-data-store/laz/TQ2884_P_9983_...  36206441   \n",
       "20  s3://mtaylor-raw-data-store/laz/TQ2886_P_9983_...  38799934   \n",
       "21  s3://mtaylor-raw-data-store/laz/TQ2888_P_9983_...  67542382   \n",
       "22  s3://mtaylor-raw-data-store/laz/TQ3080_P_9983_...   2007287   \n",
       "23  s3://mtaylor-raw-data-store/laz/TQ3082_P_9983_...  31904006   \n",
       "24  s3://mtaylor-raw-data-store/laz/TQ3084_P_9983_...  37173291   \n",
       "25  s3://mtaylor-raw-data-store/laz/TQ3280_P_9983_...   1751509   \n",
       "26  s3://mtaylor-raw-data-store/laz/TQ3282_P_9983_...  30164491   \n",
       "27  s3://mtaylor-raw-data-store/laz/TQ3284_P_9983_...  37213978   \n",
       "28  s3://mtaylor-raw-data-store/laz/TQ3480_P_9983_...   1891951   \n",
       "29  s3://mtaylor-raw-data-store/laz/TQ3482_P_9983_...  29656131   \n",
       "30  s3://mtaylor-raw-data-store/laz/TQ3484_P_9983_...  18898336   \n",
       "\n",
       "                                   md5                  last_modified  \n",
       "0     160f236219c5b34354508702cde549a2  Mon, 31 Jul 2023 14:25:11 GMT  \n",
       "1     4dba0ace4ccbfa21f825fda13b2f3a8c  Mon, 31 Jul 2023 14:27:51 GMT  \n",
       "2     c89abbdf9da9e25a2b232210447b436f  Mon, 31 Jul 2023 14:27:31 GMT  \n",
       "3     664d0c2b9963ba7d32ecc2fdd983ea92  Mon, 31 Jul 2023 14:27:16 GMT  \n",
       "4   fb084d58a1acc43f890fffb8d54c2f45-3  Mon, 31 Jul 2023 14:25:07 GMT  \n",
       "5   2b3c1ab85886e00b32c421be1c986d61-2  Mon, 31 Jul 2023 14:25:07 GMT  \n",
       "6     1a092a0fd37d105f377f55752998c0d1  Mon, 31 Jul 2023 14:26:17 GMT  \n",
       "7     212a25b22399d38bdb196017775a2e6a  Mon, 31 Jul 2023 14:25:54 GMT  \n",
       "8   5f90b411dc664c6c47307c240c560de3-2  Mon, 31 Jul 2023 14:25:07 GMT  \n",
       "9   57f4e2ee6d8a614bfca178928d2df930-3  Mon, 31 Jul 2023 14:25:07 GMT  \n",
       "10  5a3e94138bcf89b0d914e6f9006ad330-3  Mon, 31 Jul 2023 14:25:07 GMT  \n",
       "11    bb746cc93f2e9be9b80be4c455950479  Mon, 31 Jul 2023 14:25:24 GMT  \n",
       "12    be2f859d99bd27e5fc8382babf1e25b3  Mon, 31 Jul 2023 14:25:21 GMT  \n",
       "13  64538aad8ce51fdae03957b3fa84760b-2  Mon, 31 Jul 2023 14:25:07 GMT  \n",
       "14  17fdc9bf5e249683ba6f5e48ba5605f5-3  Mon, 31 Jul 2023 14:25:07 GMT  \n",
       "15  c19d83d7406296b118de0ba691a90b27-3  Mon, 31 Jul 2023 14:25:07 GMT  \n",
       "16  199cfccad4372ad97c202314ecaf24e0-3  Mon, 31 Jul 2023 14:25:07 GMT  \n",
       "17    845784f36e3d949f96669efa26ff53f8  Mon, 31 Jul 2023 14:25:16 GMT  \n",
       "18  26f001ca429dd21df8da38d338b40a0f-2  Mon, 31 Jul 2023 14:25:07 GMT  \n",
       "19  35d8533b7b4c30198bf5732e964daa3d-3  Mon, 31 Jul 2023 14:25:07 GMT  \n",
       "20  14fe24027c5ac478f70410dbefe0d4b6-3  Mon, 31 Jul 2023 14:25:07 GMT  \n",
       "21  596aa701bb5869797e9b9b078ebd9d85-4  Mon, 31 Jul 2023 14:25:07 GMT  \n",
       "22    89cfacf9dd29108abb21f4511593895c  Mon, 31 Jul 2023 14:25:15 GMT  \n",
       "23  0c28ea5996f1b13d63ef070764740904-2  Mon, 31 Jul 2023 14:25:07 GMT  \n",
       "24  002701dd61cd49b644f9cb10a41c4357-3  Mon, 31 Jul 2023 14:25:07 GMT  \n",
       "25    3825c206466c5e017876046683a11791  Mon, 31 Jul 2023 14:25:14 GMT  \n",
       "26  6cd14c9b576751d337d446376399c2c7-2  Mon, 31 Jul 2023 14:25:07 GMT  \n",
       "27  709ef1ce364c38fd772b51a822db8657-3  Mon, 31 Jul 2023 14:25:07 GMT  \n",
       "28    061415b7f07ae3e0a7b8b23ab8d2db95  Mon, 31 Jul 2023 14:25:13 GMT  \n",
       "29  a258715cde6341e623828ce5bdcd79d3-2  Mon, 31 Jul 2023 14:25:07 GMT  \n",
       "30  af6fe954a7b91bd694591be4255bc3d4-2  Mon, 31 Jul 2023 14:25:07 GMT  "
      ]
     },
     "execution_count": 6,
     "metadata": {},
     "output_type": "execute_result"
    }
   ],
   "source": [
    "pd.DataFrame(session.sql('LS @my_s3_train_stage').collect())"
   ]
  },
  {
   "cell_type": "markdown",
   "id": "34529026-153b-4d23-afe4-5fa85037125d",
   "metadata": {},
   "source": [
    "# Create a Sproc to do the same, but loop over everything in the db\n",
    "\n",
    "TLDR: 30 files takes 25mins on an extra small warehouse, approximately 0.015 credits per Laz file.  Depending on deal structure 1 credit equates to approximately 5 dollars, so each file costs c. 0.07 dollars to read, transform and load.\n",
    "\n",
    "Note this ingestion can easily be parallelised to expedite ingestion, but the compute estimates would remain similar without optimisations, and it is likley that multiple async calls to the same XS warehouse could be sustained, which could reduce costs by 50% or more\n",
    "\n",
    "This reflects 0.75GB of data, i.e. c. 1300 times less data than the presumed TB of LAZ files\n",
    "\n",
    "Assume 1500x more files, XS warehouse will take 25mins x 1500 = 600 hours or c. 25 days.  \n",
    "XS Warehouse has 1/32 the compute of an 2XL Warehouse, so 2XL completes in c. 0.75 day, at a cost of c. 600 Credits based on current performance with any optimisations (more parallelisation is expected to be possible for example)\n",
    "\n",
    "XS = 1\n",
    "S  = 2\n",
    "M  = 4\n",
    "L  = 8\n",
    "XL = 16\n",
    "2XL= 32"
   ]
  },
  {
   "cell_type": "markdown",
   "id": "32d90e84-e4a9-40da-af55-1057d0da6083",
   "metadata": {},
   "source": [
    "It's inefficient as I've just done it in a single SPROC, using a UDTF will be faster as it can fire off lots of sprocs, but that will be my next job"
   ]
  },
  {
   "cell_type": "code",
   "execution_count": 9,
   "id": "704270b5-532e-45db-a86d-57ac58e38af0",
   "metadata": {},
   "outputs": [
    {
     "name": "stderr",
     "output_type": "stream",
     "text": [
      "Package 'lazrs-python' is not installed in the local environment. Your UDF might not work when the package is installed on the server but not on your local environment.\n"
     ]
    }
   ],
   "source": [
    "@sproc(name='import_laz', \n",
    "       packages=['snowflake-snowpark-python','laspy', 'lazrs-python', 'pyproj'], \n",
    "       is_permanent=True, \n",
    "       replace=True,\n",
    "       stage_location='@PIPELINE', \n",
    "       session=session)\n",
    "def read_laz(session: Session, df_iloc_start: int, df_iloc_end: int) -> T.Variant:\n",
    "    from snowflake.snowpark.files import SnowflakeFile\n",
    "    import pandas as pd\n",
    "    from pyproj import Proj, transform\n",
    "    import pandas as pd\n",
    "    \n",
    "    \n",
    "    v84 = Proj(proj=\"latlong\",towgs84=\"0,0,0\",ellps=\"WGS84\")\n",
    "    v36 = Proj(proj=\"latlong\", k=0.9996012717, ellps=\"airy\",\n",
    "            towgs84=\"446.448,-125.157,542.060,0.1502,0.2470,0.8421,-20.4894\")\n",
    "    vgrid = Proj(init=\"world:bng\")\n",
    "    \n",
    "    def vectorized_convert(df):\n",
    "        vlon36, vlat36 = vgrid(df['x'].values, \n",
    "                               df['y'].values, \n",
    "                               inverse=True)\n",
    "        converted = transform(v36, v84, vlon36, vlat36)\n",
    "        df['longitude'] = converted[0]\n",
    "        df['latitude'] = converted[1]\n",
    "        return df\n",
    "    \n",
    "    \n",
    "    scope = pd.DataFrame(session.sql('LS @LAZ_S3_STAGE').collect())\n",
    "    scope = scope.iloc[df_iloc_start:df_iloc_end,:]\n",
    "    \n",
    "    for row in range(len(scope)):\n",
    "        raw_url = scope.iloc[row][0].split('/laz')[1]\n",
    "        scoped_url = session.sql(f\"SELECT BUILD_SCOPED_FILE_URL( @MY_S3_TRAIN_STAGE , '{raw_url}')\").collect()[0][0]\n",
    "        with SnowflakeFile.open(scoped_url, 'rb') as f:\n",
    "            inFile = laspy.read(f)  \n",
    "            #Import LAS into numpy array (X=raw integer value x=scaled float value)\n",
    "            lidar_points = np.array((inFile.x,inFile.y,inFile.z,inFile.intensity,\n",
    "                           inFile.raw_classification,inFile.scan_angle_rank)).transpose()\n",
    "            \n",
    "            #Transform to pandas DataFrame\n",
    "            lidar_df=pd.DataFrame(lidar_points, columns=[\"x\",\"y\",\"z\",\"intensity\",\"classification\", \"scan_angle_rank\"])\n",
    "\n",
    "            #Update with Long/Lat\n",
    "            lidar_df = vectorized_convert(lidar_df)\n",
    "            \n",
    "            sdf = session.create_dataframe(lidar_df)\n",
    "            sdf.write.save_as_table(\"LIDAR_DATASET\", mode=\"append\") # do this async?\n",
    "            #session.write_pandas(lidar_df, table_name='LIDAR_DATASET', auto_create_table=True, overwrite=True)\n",
    "            \n",
    "    return (\"LAZ FILES INGESTED\")"
   ]
  },
  {
   "cell_type": "code",
   "execution_count": 8,
   "id": "5f224899-f7d0-41bc-835e-a3b0fb5456bb",
   "metadata": {},
   "outputs": [
    {
     "name": "stdout",
     "output_type": "stream",
     "text": [
      "CPU times: user 388 ms, sys: 88.8 ms, total: 477 ms\n",
      "Wall time: 24min 4s\n"
     ]
    },
    {
     "data": {
      "text/plain": [
       "'\"LAZ FILE INGESTED\"'"
      ]
     },
     "execution_count": 8,
     "metadata": {},
     "output_type": "execute_result"
    }
   ],
   "source": [
    "%%time\n",
    "read_laz(0,30)"
   ]
  },
  {
   "cell_type": "code",
   "execution_count": 10,
   "id": "217c62fc-22d2-4612-9aa3-5039eae41626",
   "metadata": {},
   "outputs": [
    {
     "name": "stdout",
     "output_type": "stream",
     "text": [
      "CPU times: user 163 ms, sys: 36.1 ms, total: 199 ms\n",
      "Wall time: 10min\n"
     ]
    },
    {
     "data": {
      "text/plain": [
       "'\"LAZ FILE INGESTED\"'"
      ]
     },
     "execution_count": 10,
     "metadata": {},
     "output_type": "execute_result"
    }
   ],
   "source": [
    "%%time\n",
    "read_laz(0,15)"
   ]
  },
  {
   "cell_type": "code",
   "execution_count": 11,
   "id": "08f93aaa-fe2c-4e55-a67d-23cccb9f3985",
   "metadata": {},
   "outputs": [
    {
     "name": "stdout",
     "output_type": "stream",
     "text": [
      "CPU times: user 40.3 ms, sys: 3.05 ms, total: 43.4 ms\n",
      "Wall time: 231 ms\n"
     ]
    },
    {
     "data": {
      "text/plain": [
       "<snowflake.snowpark.async_job.AsyncJob at 0x7fd68198fca0>"
      ]
     },
     "execution_count": 11,
     "metadata": {},
     "output_type": "execute_result"
    }
   ],
   "source": [
    "%%time\n",
    "session.sql(\"CALL import_laz(0,15)\").collect(block=False)\n",
    "session.sql(\"CALL import_laz(15,30)\").collect(block=False)\n"
   ]
  },
  {
   "cell_type": "code",
   "execution_count": 12,
   "id": "d838ab8a-1a29-4bcb-9550-2bcc4d2b43c1",
   "metadata": {},
   "outputs": [
    {
     "data": {
      "text/plain": [
       "<snowflake.snowpark.async_job.AsyncJob at 0x7fd672a32e50>"
      ]
     },
     "execution_count": 12,
     "metadata": {},
     "output_type": "execute_result"
    }
   ],
   "source": [
    "session.sql(\"CALL import_laz(0,15)\").collect(block=False)"
   ]
  },
  {
   "cell_type": "code",
   "execution_count": 13,
   "id": "a65eb651-91a9-4aa5-a141-b6aef00014d7",
   "metadata": {},
   "outputs": [
    {
     "data": {
      "text/plain": [
       "<snowflake.snowpark.async_job.AsyncJob at 0x7fd671a94520>"
      ]
     },
     "execution_count": 13,
     "metadata": {},
     "output_type": "execute_result"
    }
   ],
   "source": [
    "session.sql(\"CALL import_laz(15,30)\").collect(block=False)\n"
   ]
  },
  {
   "cell_type": "markdown",
   "id": "b0aca5ea-b473-4b8b-ab69-9b442e64c987",
   "metadata": {},
   "source": [
    "# Create a proper coordinate so we can query it efficiently with polygons"
   ]
  },
  {
   "cell_type": "code",
   "execution_count": 7,
   "id": "3a899724-13bb-48a4-9b42-36e34574ef3a",
   "metadata": {},
   "outputs": [],
   "source": [
    "snowpark_df_gis = session.sql('''SELECT \"x\",\"y\",\"z\",\"intensity\",\"classification\", \"scan_angle_rank\", \"longitude\", \"latitude\", ST_MAKEPOINT(o.\"longitude\", o.\"latitude\") as COORD\n",
    "                               FROM LIDAR_DATASET o''')\n",
    "snowpark_df_gis.write.mode(\"overwrite\").save_as_table(\"LIDAR_DATASET_GIS\")"
   ]
  },
  {
   "cell_type": "code",
   "execution_count": 8,
   "id": "2fd732d7-852f-4091-8b13-1002b0067061",
   "metadata": {},
   "outputs": [
    {
     "data": {
      "text/html": [
       "<div>\n",
       "<style scoped>\n",
       "    .dataframe tbody tr th:only-of-type {\n",
       "        vertical-align: middle;\n",
       "    }\n",
       "\n",
       "    .dataframe tbody tr th {\n",
       "        vertical-align: top;\n",
       "    }\n",
       "\n",
       "    .dataframe thead th {\n",
       "        text-align: right;\n",
       "    }\n",
       "</style>\n",
       "<table border=\"1\" class=\"dataframe\">\n",
       "  <thead>\n",
       "    <tr style=\"text-align: right;\">\n",
       "      <th></th>\n",
       "      <th>x</th>\n",
       "      <th>y</th>\n",
       "      <th>z</th>\n",
       "      <th>intensity</th>\n",
       "      <th>classification</th>\n",
       "      <th>scan_angle_rank</th>\n",
       "      <th>longitude</th>\n",
       "      <th>latitude</th>\n",
       "      <th>COORD</th>\n",
       "    </tr>\n",
       "  </thead>\n",
       "  <tbody>\n",
       "    <tr>\n",
       "      <th>0</th>\n",
       "      <td>521917.79</td>\n",
       "      <td>181566.25</td>\n",
       "      <td>19.35</td>\n",
       "      <td>23.0</td>\n",
       "      <td>2.0</td>\n",
       "      <td>-5.0</td>\n",
       "      <td>-0.244201</td>\n",
       "      <td>51.519867</td>\n",
       "      <td>{\\n  \"coordinates\": [\\n    -2.442005173434572e...</td>\n",
       "    </tr>\n",
       "    <tr>\n",
       "      <th>1</th>\n",
       "      <td>521918.20</td>\n",
       "      <td>181565.75</td>\n",
       "      <td>22.32</td>\n",
       "      <td>27.0</td>\n",
       "      <td>4.0</td>\n",
       "      <td>-5.0</td>\n",
       "      <td>-0.244195</td>\n",
       "      <td>51.519862</td>\n",
       "      <td>{\\n  \"coordinates\": [\\n    -2.441947838449080e...</td>\n",
       "    </tr>\n",
       "    <tr>\n",
       "      <th>2</th>\n",
       "      <td>521918.47</td>\n",
       "      <td>181565.71</td>\n",
       "      <td>19.35</td>\n",
       "      <td>14.0</td>\n",
       "      <td>2.0</td>\n",
       "      <td>-5.0</td>\n",
       "      <td>-0.244191</td>\n",
       "      <td>51.519862</td>\n",
       "      <td>{\\n  \"coordinates\": [\\n    -2.441909081454464e...</td>\n",
       "    </tr>\n",
       "    <tr>\n",
       "      <th>3</th>\n",
       "      <td>521918.87</td>\n",
       "      <td>181565.20</td>\n",
       "      <td>22.49</td>\n",
       "      <td>18.0</td>\n",
       "      <td>4.0</td>\n",
       "      <td>-5.0</td>\n",
       "      <td>-0.244185</td>\n",
       "      <td>51.519857</td>\n",
       "      <td>{\\n  \"coordinates\": [\\n    -2.441853221613215e...</td>\n",
       "    </tr>\n",
       "    <tr>\n",
       "      <th>4</th>\n",
       "      <td>521919.17</td>\n",
       "      <td>181565.16</td>\n",
       "      <td>19.27</td>\n",
       "      <td>11.0</td>\n",
       "      <td>2.0</td>\n",
       "      <td>-5.0</td>\n",
       "      <td>-0.244181</td>\n",
       "      <td>51.519857</td>\n",
       "      <td>{\\n  \"coordinates\": [\\n    -2.441810142930061e...</td>\n",
       "    </tr>\n",
       "  </tbody>\n",
       "</table>\n",
       "</div>"
      ],
      "text/plain": [
       "           x          y      z  intensity  classification  scan_angle_rank  \\\n",
       "0  521917.79  181566.25  19.35       23.0             2.0             -5.0   \n",
       "1  521918.20  181565.75  22.32       27.0             4.0             -5.0   \n",
       "2  521918.47  181565.71  19.35       14.0             2.0             -5.0   \n",
       "3  521918.87  181565.20  22.49       18.0             4.0             -5.0   \n",
       "4  521919.17  181565.16  19.27       11.0             2.0             -5.0   \n",
       "\n",
       "   longitude   latitude                                              COORD  \n",
       "0  -0.244201  51.519867  {\\n  \"coordinates\": [\\n    -2.442005173434572e...  \n",
       "1  -0.244195  51.519862  {\\n  \"coordinates\": [\\n    -2.441947838449080e...  \n",
       "2  -0.244191  51.519862  {\\n  \"coordinates\": [\\n    -2.441909081454464e...  \n",
       "3  -0.244185  51.519857  {\\n  \"coordinates\": [\\n    -2.441853221613215e...  \n",
       "4  -0.244181  51.519857  {\\n  \"coordinates\": [\\n    -2.441810142930061e...  "
      ]
     },
     "execution_count": 8,
     "metadata": {},
     "output_type": "execute_result"
    }
   ],
   "source": [
    "snowpark_df_gis.limit(5).to_pandas()"
   ]
  },
  {
   "cell_type": "markdown",
   "id": "e68cab60-f6d8-4d4f-b585-d6112d887712",
   "metadata": {},
   "source": [
    "## And query with a crude coordinate"
   ]
  },
  {
   "cell_type": "code",
   "execution_count": 9,
   "id": "635717bb-611f-4b27-be95-5e33f5276d5d",
   "metadata": {},
   "outputs": [],
   "source": [
    "snowpark_df_gis_test = session.sql('''\n",
    "SELECT \"intensity\",\"classification\", \"scan_angle_rank\", \"longitude\", \"latitude\", o.COORD,  ST_CONTAINS(nl_poly, o.coord) as in_n_london\n",
    "FROM LIDAR_DATASET_GIS o, (SELECT(TO_GEOGRAPHY('POLYGON((51.5 0, 52 0.5, 51.5 1, 51.5 0))')) AS nl_poly)''')"
   ]
  },
  {
   "cell_type": "code",
   "execution_count": 10,
   "id": "837ba04c-a2fb-4e9c-af4f-dffa0b5ba49b",
   "metadata": {},
   "outputs": [
    {
     "data": {
      "text/html": [
       "<div>\n",
       "<style scoped>\n",
       "    .dataframe tbody tr th:only-of-type {\n",
       "        vertical-align: middle;\n",
       "    }\n",
       "\n",
       "    .dataframe tbody tr th {\n",
       "        vertical-align: top;\n",
       "    }\n",
       "\n",
       "    .dataframe thead th {\n",
       "        text-align: right;\n",
       "    }\n",
       "</style>\n",
       "<table border=\"1\" class=\"dataframe\">\n",
       "  <thead>\n",
       "    <tr style=\"text-align: right;\">\n",
       "      <th></th>\n",
       "      <th>intensity</th>\n",
       "      <th>classification</th>\n",
       "      <th>scan_angle_rank</th>\n",
       "      <th>longitude</th>\n",
       "      <th>latitude</th>\n",
       "      <th>COORD</th>\n",
       "      <th>IN_N_LONDON</th>\n",
       "    </tr>\n",
       "  </thead>\n",
       "  <tbody>\n",
       "    <tr>\n",
       "      <th>0</th>\n",
       "      <td>66.0</td>\n",
       "      <td>1.0</td>\n",
       "      <td>-14.0</td>\n",
       "      <td>-0.241385</td>\n",
       "      <td>51.519131</td>\n",
       "      <td>{\\n  \"coordinates\": [\\n    -2.413847029169831e...</td>\n",
       "      <td>False</td>\n",
       "    </tr>\n",
       "    <tr>\n",
       "      <th>1</th>\n",
       "      <td>78.0</td>\n",
       "      <td>1.0</td>\n",
       "      <td>-14.0</td>\n",
       "      <td>-0.241385</td>\n",
       "      <td>51.519139</td>\n",
       "      <td>{\\n  \"coordinates\": [\\n    -2.413853893480410e...</td>\n",
       "      <td>False</td>\n",
       "    </tr>\n",
       "    <tr>\n",
       "      <th>2</th>\n",
       "      <td>81.0</td>\n",
       "      <td>3.0</td>\n",
       "      <td>-14.0</td>\n",
       "      <td>-0.241386</td>\n",
       "      <td>51.519148</td>\n",
       "      <td>{\\n  \"coordinates\": [\\n    -2.413859282635153e...</td>\n",
       "      <td>False</td>\n",
       "    </tr>\n",
       "    <tr>\n",
       "      <th>3</th>\n",
       "      <td>79.0</td>\n",
       "      <td>1.0</td>\n",
       "      <td>-14.0</td>\n",
       "      <td>-0.241386</td>\n",
       "      <td>51.519156</td>\n",
       "      <td>{\\n  \"coordinates\": [\\n    -2.413864775645290e...</td>\n",
       "      <td>False</td>\n",
       "    </tr>\n",
       "    <tr>\n",
       "      <th>4</th>\n",
       "      <td>70.0</td>\n",
       "      <td>1.0</td>\n",
       "      <td>-14.0</td>\n",
       "      <td>-0.241387</td>\n",
       "      <td>51.519164</td>\n",
       "      <td>{\\n  \"coordinates\": [\\n    -2.413871605343854e...</td>\n",
       "      <td>False</td>\n",
       "    </tr>\n",
       "  </tbody>\n",
       "</table>\n",
       "</div>"
      ],
      "text/plain": [
       "   intensity  classification  scan_angle_rank  longitude   latitude  \\\n",
       "0       66.0             1.0            -14.0  -0.241385  51.519131   \n",
       "1       78.0             1.0            -14.0  -0.241385  51.519139   \n",
       "2       81.0             3.0            -14.0  -0.241386  51.519148   \n",
       "3       79.0             1.0            -14.0  -0.241386  51.519156   \n",
       "4       70.0             1.0            -14.0  -0.241387  51.519164   \n",
       "\n",
       "                                               COORD  IN_N_LONDON  \n",
       "0  {\\n  \"coordinates\": [\\n    -2.413847029169831e...        False  \n",
       "1  {\\n  \"coordinates\": [\\n    -2.413853893480410e...        False  \n",
       "2  {\\n  \"coordinates\": [\\n    -2.413859282635153e...        False  \n",
       "3  {\\n  \"coordinates\": [\\n    -2.413864775645290e...        False  \n",
       "4  {\\n  \"coordinates\": [\\n    -2.413871605343854e...        False  "
      ]
     },
     "execution_count": 10,
     "metadata": {},
     "output_type": "execute_result"
    }
   ],
   "source": [
    "snowpark_df_gis_test.limit(5).to_pandas()"
   ]
  },
  {
   "cell_type": "markdown",
   "id": "8fb148f3-5685-4053-bd8a-871e27b36a53",
   "metadata": {},
   "source": [
    "# Test Out H3 and Performance (Locally)"
   ]
  },
  {
   "cell_type": "code",
   "execution_count": 11,
   "id": "9238f531-977a-4a39-a310-a0846fc29747",
   "metadata": {},
   "outputs": [],
   "source": [
    "N = 1_000_000\n",
    "\n",
    "lats = np.random.uniform(0, 90, N) \n",
    "lons = np.random.uniform(0, 90, N)"
   ]
  },
  {
   "cell_type": "markdown",
   "id": "979b57fc-9977-42a5-8d99-30bd8fd8c4dd",
   "metadata": {},
   "source": [
    "### String Approach"
   ]
  },
  {
   "cell_type": "code",
   "execution_count": 12,
   "id": "6e4267f6-af28-4766-a907-1702b6d6cedd",
   "metadata": {},
   "outputs": [],
   "source": [
    "import h3.api.basic_str as h3s"
   ]
  },
  {
   "cell_type": "code",
   "execution_count": 13,
   "id": "dbb9180d-fbbd-4554-9a0b-7a55e2a529ae",
   "metadata": {},
   "outputs": [
    {
     "name": "stdout",
     "output_type": "stream",
     "text": [
      "9.33 s ± 11.5 ms per loop (mean ± std. dev. of 7 runs, 1 loop each)\n"
     ]
    }
   ],
   "source": [
    "%%timeit\n",
    "[h3s.geo_to_h3(lat, lon, 10) for lat, lon in zip(lats, lons)]"
   ]
  },
  {
   "cell_type": "markdown",
   "id": "95385159-37f5-414d-adc7-2cfb751bb8c1",
   "metadata": {},
   "source": [
    "### Numpy Approach"
   ]
  },
  {
   "cell_type": "code",
   "execution_count": 14,
   "id": "8a35bbe6-f767-40a5-8d61-72c733ac2470",
   "metadata": {},
   "outputs": [],
   "source": [
    "import h3.api.numpy_int as h3i"
   ]
  },
  {
   "cell_type": "code",
   "execution_count": 15,
   "id": "12391922-f65a-4c1b-adbc-4fa6876441f3",
   "metadata": {},
   "outputs": [
    {
     "name": "stdout",
     "output_type": "stream",
     "text": [
      "9.17 s ± 48.7 ms per loop (mean ± std. dev. of 7 runs, 1 loop each)\n"
     ]
    }
   ],
   "source": [
    "%%timeit\n",
    "[h3i.geo_to_h3(lat, lon, 10) for lat, lon in zip(lats, lons)]"
   ]
  },
  {
   "cell_type": "markdown",
   "id": "6a0cc70d-a14b-4764-b7bb-06b8bffded32",
   "metadata": {},
   "source": [
    "### Vectorised Approach\n",
    "#### (note this is classed as unstable by the H3 devs, but prob stable given it's an old(er) version, now on 4.0 in beta)"
   ]
  },
  {
   "cell_type": "code",
   "execution_count": 16,
   "id": "cb7d01a7-c047-4f8c-b1a3-64d13cf0fd01",
   "metadata": {},
   "outputs": [
    {
     "name": "stderr",
     "output_type": "stream",
     "text": [
      "/Users/mitaylor/opt/anaconda3/envs/snowpark_gis/lib/python3.8/site-packages/h3/unstable/__init__.py:4: UserWarning: Modules under `h3.unstable` are experimental, and may change at any time.\n",
      "  warnings.warn(\n"
     ]
    }
   ],
   "source": [
    "from h3.unstable import vect"
   ]
  },
  {
   "cell_type": "code",
   "execution_count": 17,
   "id": "5010c7be-e22e-4181-9aa2-303fa02ede52",
   "metadata": {},
   "outputs": [
    {
     "name": "stdout",
     "output_type": "stream",
     "text": [
      "8.49 s ± 37.5 ms per loop (mean ± std. dev. of 7 runs, 1 loop each)\n"
     ]
    }
   ],
   "source": [
    "%%timeit\n",
    "vect.geo_to_h3(lats, lons, 9)"
   ]
  },
  {
   "cell_type": "markdown",
   "id": "d02c31ed-ca2f-4734-ade7-c9956e390901",
   "metadata": {
    "jp-MarkdownHeadingCollapsed": true
   },
   "source": [
    "Probably/possibly a CPU issue, so this might have greater performance, but not a dramatic improvement as is"
   ]
  },
  {
   "cell_type": "markdown",
   "id": "6fd53f65-39c9-44ff-8111-f0ef3dba7e8f",
   "metadata": {},
   "source": [
    "# Now Enrich Snowflake With H3\n",
    "\n",
    "TLDR: with an XS warehouse this takes 21minutes for ~200M rows (c. 7GB), so c. 0.4 credits or around 2 dollars per 200M rows.  Scaling to a TB of data assume c. 3-400 dollars\n",
    "this will scale linearly in cost and can be parallelised to reduce time of execution"
   ]
  },
  {
   "cell_type": "code",
   "execution_count": 27,
   "id": "c1373bfe-e716-4f90-855b-63ecd23a7bb8",
   "metadata": {},
   "outputs": [
    {
     "name": "stderr",
     "output_type": "stream",
     "text": [
      "Package 'h3-py' is not installed in the local environment. Your UDF might not work when the package is installed on the server but not on your local environment.\n",
      "The version of package 'numpy' in the local environment is 1.24.2, which does not fit the criteria for the requirement 'numpy'. Your UDF might not work when the package version is different between the server and your local environment.\n"
     ]
    }
   ],
   "source": [
    "feature_cols = ['\"x\"',\n",
    " '\"y\"',\n",
    " '\"z\"',\n",
    " '\"intensity\"',\n",
    " '\"classification\"',\n",
    " '\"scan_angle_rank\"',\n",
    " '\"longitude\"',\n",
    " '\"latitude\"']\n",
    "\n",
    "def h3_conversion(df: pd.DataFrame) -> pd.Series:\n",
    "    import pandas as pd\n",
    "    df = pd.DataFrame(np.array(df), columns =  ['x','y', 'z', 'intensity', 'classification', 'scan_angle_rank', 'longitude', 'latitude'])   \n",
    "    lons = np.array(df['longitude'])\n",
    "    lats = np.array(df['latitude'])\n",
    "\n",
    "    #import h3.api.numpy_int as h3i\n",
    "    #hex = pd.Series([h3i.geo_to_h3(lat, lon, 5) for lat, lon in zip(lats, lons)])\n",
    "    import h3.api.basic_str as h3s\n",
    "    hex = pd.Series([h3s.geo_to_h3(lat, lon, 12) for lat, lon in zip(lats, lons)]) \n",
    "    # 12 is about 17.5m x 17.5m, appropriate for a house, 11 for a block of flats (50m by 50m ish), 10 for a very big building (100m by 100m ish)\n",
    "    return hex\n",
    "\n",
    "udf_model = session.udf.register(session=session,func=h3_conversion,\n",
    "                                 name=\"h3_conversion\", stage_location='@PIPELINE',\n",
    "                                 input_types=[T.FloatType()]*len(feature_cols),\n",
    "                                 return_type=T.StringType(),\n",
    "                                 replace=True, is_permanent=True,\n",
    "                                 max_batch_size=1000,\n",
    "                                 packages=['h3-py', 'numpy'])"
   ]
  },
  {
   "cell_type": "code",
   "execution_count": 19,
   "id": "f5cff1b5-02e2-4f7e-bf15-ca5a4bcc990e",
   "metadata": {},
   "outputs": [
    {
     "name": "stdout",
     "output_type": "stream",
     "text": [
      "CPU times: user 350 ms, sys: 91.1 ms, total: 441 ms\n",
      "Wall time: 21min 17s\n"
     ]
    }
   ],
   "source": [
    "%%time\n",
    "test_sdf = session.table('LIDAR_DATASET')\n",
    "test_sdf = test_sdf.with_column('hex', udf_model(*feature_cols))\n",
    "test_sdf.write.mode(\"overwrite\").save_as_table(\"LIDAR_DATASET_HEX\")"
   ]
  },
  {
   "cell_type": "code",
   "execution_count": 20,
   "id": "257f91a1-6e7b-4b2b-a3e0-d4f6f77469e8",
   "metadata": {},
   "outputs": [
    {
     "data": {
      "text/html": [
       "<div>\n",
       "<style scoped>\n",
       "    .dataframe tbody tr th:only-of-type {\n",
       "        vertical-align: middle;\n",
       "    }\n",
       "\n",
       "    .dataframe tbody tr th {\n",
       "        vertical-align: top;\n",
       "    }\n",
       "\n",
       "    .dataframe thead th {\n",
       "        text-align: right;\n",
       "    }\n",
       "</style>\n",
       "<table border=\"1\" class=\"dataframe\">\n",
       "  <thead>\n",
       "    <tr style=\"text-align: right;\">\n",
       "      <th></th>\n",
       "      <th>x</th>\n",
       "      <th>y</th>\n",
       "      <th>z</th>\n",
       "      <th>intensity</th>\n",
       "      <th>classification</th>\n",
       "      <th>scan_angle_rank</th>\n",
       "      <th>longitude</th>\n",
       "      <th>latitude</th>\n",
       "      <th>HEX</th>\n",
       "    </tr>\n",
       "  </thead>\n",
       "  <tbody>\n",
       "    <tr>\n",
       "      <th>0</th>\n",
       "      <td>521917.79</td>\n",
       "      <td>181566.25</td>\n",
       "      <td>19.35</td>\n",
       "      <td>23.0</td>\n",
       "      <td>2.0</td>\n",
       "      <td>-5.0</td>\n",
       "      <td>-0.244201</td>\n",
       "      <td>51.519867</td>\n",
       "      <td>8c195da5bb59dff</td>\n",
       "    </tr>\n",
       "    <tr>\n",
       "      <th>1</th>\n",
       "      <td>521918.20</td>\n",
       "      <td>181565.75</td>\n",
       "      <td>22.32</td>\n",
       "      <td>27.0</td>\n",
       "      <td>4.0</td>\n",
       "      <td>-5.0</td>\n",
       "      <td>-0.244195</td>\n",
       "      <td>51.519862</td>\n",
       "      <td>8c195da5bb59dff</td>\n",
       "    </tr>\n",
       "    <tr>\n",
       "      <th>2</th>\n",
       "      <td>521918.47</td>\n",
       "      <td>181565.71</td>\n",
       "      <td>19.35</td>\n",
       "      <td>14.0</td>\n",
       "      <td>2.0</td>\n",
       "      <td>-5.0</td>\n",
       "      <td>-0.244191</td>\n",
       "      <td>51.519862</td>\n",
       "      <td>8c195da5bb59dff</td>\n",
       "    </tr>\n",
       "    <tr>\n",
       "      <th>3</th>\n",
       "      <td>521918.87</td>\n",
       "      <td>181565.20</td>\n",
       "      <td>22.49</td>\n",
       "      <td>18.0</td>\n",
       "      <td>4.0</td>\n",
       "      <td>-5.0</td>\n",
       "      <td>-0.244185</td>\n",
       "      <td>51.519857</td>\n",
       "      <td>8c195da5bb59dff</td>\n",
       "    </tr>\n",
       "    <tr>\n",
       "      <th>4</th>\n",
       "      <td>521919.17</td>\n",
       "      <td>181565.16</td>\n",
       "      <td>19.27</td>\n",
       "      <td>11.0</td>\n",
       "      <td>2.0</td>\n",
       "      <td>-5.0</td>\n",
       "      <td>-0.244181</td>\n",
       "      <td>51.519857</td>\n",
       "      <td>8c195da5bb59dff</td>\n",
       "    </tr>\n",
       "  </tbody>\n",
       "</table>\n",
       "</div>"
      ],
      "text/plain": [
       "           x          y      z  intensity  classification  scan_angle_rank  \\\n",
       "0  521917.79  181566.25  19.35       23.0             2.0             -5.0   \n",
       "1  521918.20  181565.75  22.32       27.0             4.0             -5.0   \n",
       "2  521918.47  181565.71  19.35       14.0             2.0             -5.0   \n",
       "3  521918.87  181565.20  22.49       18.0             4.0             -5.0   \n",
       "4  521919.17  181565.16  19.27       11.0             2.0             -5.0   \n",
       "\n",
       "   longitude   latitude              HEX  \n",
       "0  -0.244201  51.519867  8c195da5bb59dff  \n",
       "1  -0.244195  51.519862  8c195da5bb59dff  \n",
       "2  -0.244191  51.519862  8c195da5bb59dff  \n",
       "3  -0.244185  51.519857  8c195da5bb59dff  \n",
       "4  -0.244181  51.519857  8c195da5bb59dff  "
      ]
     },
     "execution_count": 20,
     "metadata": {},
     "output_type": "execute_result"
    }
   ],
   "source": [
    "test_sdf.limit(5).to_pandas()"
   ]
  },
  {
   "cell_type": "markdown",
   "id": "c3336d72-25e1-46a0-8bae-07c626e5319e",
   "metadata": {},
   "source": [
    "## With PuPr features"
   ]
  },
  {
   "cell_type": "code",
   "execution_count": 11,
   "id": "7247f768-1642-48b0-8f1f-b7812e6f611c",
   "metadata": {},
   "outputs": [
    {
     "name": "stdout",
     "output_type": "stream",
     "text": [
      "CPU times: user 198 µs, sys: 5 µs, total: 203 µs\n",
      "Wall time: 209 µs\n"
     ]
    }
   ],
   "source": [
    "%%time\n",
    "test_sdf = session.sql('select H3_LATLNG_TO_CELL(lidar_dataset_gis.\"longitude\", lidar_dataset_gis.\"latitude\", 10) as HEX10, \"z\",\"intensity\",\"classification\", \"scan_angle_rank\" from lidar_dataset_gis')"
   ]
  },
  {
   "cell_type": "code",
   "execution_count": 12,
   "id": "5687d26c-a5eb-4912-b365-fcf5a4d8f430",
   "metadata": {},
   "outputs": [
    {
     "name": "stdout",
     "output_type": "stream",
     "text": [
      "CPU times: user 89.4 ms, sys: 16.7 ms, total: 106 ms\n",
      "Wall time: 3min 1s\n"
     ]
    }
   ],
   "source": [
    "%%time\n",
    "test_sdf.write.mode(\"overwrite\").save_as_table(\"LIDAR_DATASET_HEX_PUPR\")"
   ]
  },
  {
   "cell_type": "code",
   "execution_count": 13,
   "id": "1fa3a78e-90fc-4d52-a144-f0669f1e5f95",
   "metadata": {},
   "outputs": [
    {
     "data": {
      "text/plain": [
       "[Row(status='Warehouse LAZ_VH successfully created.')]"
      ]
     },
     "execution_count": 13,
     "metadata": {},
     "output_type": "execute_result"
    }
   ],
   "source": [
    "session.sql(\"CREATE OR REPLACE WAREHOUSE LAZ_VH WITH WAREHOUSE_SIZE='X-LARGE'\").collect()"
   ]
  },
  {
   "cell_type": "code",
   "execution_count": 14,
   "id": "d24ad9b9-657a-4b69-ab89-e2bece78b9a0",
   "metadata": {},
   "outputs": [
    {
     "name": "stdout",
     "output_type": "stream",
     "text": [
      "CPU times: user 23.6 ms, sys: 2.99 ms, total: 26.6 ms\n",
      "Wall time: 15.9 s\n"
     ]
    }
   ],
   "source": [
    "%%time\n",
    "test_sdf.write.mode(\"overwrite\").save_as_table(\"LIDAR_DATASET_HEX_PUPR_XL\")"
   ]
  },
  {
   "cell_type": "markdown",
   "id": "e78ce6d2-f35e-484d-9333-fa04b4316e88",
   "metadata": {},
   "source": [
    "Using Native PuPr functions we're able to shave c. 90% of the execution time off, ie from 21mins to 2 mins, and we can further compress this with more Warehouse time (but this does not save money, just time)"
   ]
  },
  {
   "cell_type": "markdown",
   "id": "7de65536-6b63-4d0b-a054-5a07a50f8f3b",
   "metadata": {},
   "source": [
    "# Simulate the Properties"
   ]
  },
  {
   "cell_type": "code",
   "execution_count": 5,
   "id": "72fcb825-3900-481a-877b-ebcd1a4933f5",
   "metadata": {},
   "outputs": [
    {
     "data": {
      "text/html": [
       "<div>\n",
       "<style scoped>\n",
       "    .dataframe tbody tr th:only-of-type {\n",
       "        vertical-align: middle;\n",
       "    }\n",
       "\n",
       "    .dataframe tbody tr th {\n",
       "        vertical-align: top;\n",
       "    }\n",
       "\n",
       "    .dataframe thead th {\n",
       "        text-align: right;\n",
       "    }\n",
       "</style>\n",
       "<table border=\"1\" class=\"dataframe\">\n",
       "  <thead>\n",
       "    <tr style=\"text-align: right;\">\n",
       "      <th></th>\n",
       "      <th>HEX</th>\n",
       "      <th>HEIGHT</th>\n",
       "    </tr>\n",
       "  </thead>\n",
       "  <tbody>\n",
       "    <tr>\n",
       "      <th>3089063</th>\n",
       "      <td>8c195da59ab65ff</td>\n",
       "      <td>18.21</td>\n",
       "    </tr>\n",
       "    <tr>\n",
       "      <th>4418569</th>\n",
       "      <td>8c195da58223dff</td>\n",
       "      <td>44.35</td>\n",
       "    </tr>\n",
       "    <tr>\n",
       "      <th>2622900</th>\n",
       "      <td>8c195da5c2f17ff</td>\n",
       "      <td>49.67</td>\n",
       "    </tr>\n",
       "    <tr>\n",
       "      <th>836255</th>\n",
       "      <td>8c195da591b63ff</td>\n",
       "      <td>36.20</td>\n",
       "    </tr>\n",
       "    <tr>\n",
       "      <th>2548997</th>\n",
       "      <td>8c195da5d2137ff</td>\n",
       "      <td>49.12</td>\n",
       "    </tr>\n",
       "    <tr>\n",
       "      <th>...</th>\n",
       "      <td>...</td>\n",
       "      <td>...</td>\n",
       "    </tr>\n",
       "    <tr>\n",
       "      <th>4107607</th>\n",
       "      <td>8c195da594dabff</td>\n",
       "      <td>21.25</td>\n",
       "    </tr>\n",
       "    <tr>\n",
       "      <th>2426980</th>\n",
       "      <td>8c195da5dc0d3ff</td>\n",
       "      <td>53.70</td>\n",
       "    </tr>\n",
       "    <tr>\n",
       "      <th>821464</th>\n",
       "      <td>8c195da590927ff</td>\n",
       "      <td>24.40</td>\n",
       "    </tr>\n",
       "    <tr>\n",
       "      <th>3136421</th>\n",
       "      <td>8c195da5baec1ff</td>\n",
       "      <td>13.70</td>\n",
       "    </tr>\n",
       "    <tr>\n",
       "      <th>3217550</th>\n",
       "      <td>8c195da5ba8c9ff</td>\n",
       "      <td>15.66</td>\n",
       "    </tr>\n",
       "  </tbody>\n",
       "</table>\n",
       "<p>100000 rows × 2 columns</p>\n",
       "</div>"
      ],
      "text/plain": [
       "                     HEX  HEIGHT\n",
       "3089063  8c195da59ab65ff   18.21\n",
       "4418569  8c195da58223dff   44.35\n",
       "2622900  8c195da5c2f17ff   49.67\n",
       "836255   8c195da591b63ff   36.20\n",
       "2548997  8c195da5d2137ff   49.12\n",
       "...                  ...     ...\n",
       "4107607  8c195da594dabff   21.25\n",
       "2426980  8c195da5dc0d3ff   53.70\n",
       "821464   8c195da590927ff   24.40\n",
       "3136421  8c195da5baec1ff   13.70\n",
       "3217550  8c195da5ba8c9ff   15.66\n",
       "\n",
       "[100000 rows x 2 columns]"
      ]
     },
     "execution_count": 5,
     "metadata": {},
     "output_type": "execute_result"
    }
   ],
   "source": [
    "props_pdf = session.table('LIDAR_DATASET_HEX').limit(5000000).to_pandas()\n",
    "props_pdf = props_pdf.sample(n=100000,replace=True)\n",
    "props_pdf['HEIGHT'] = props_pdf['z']\n",
    "props_pdf = props_pdf[['HEX', 'HEIGHT']]\n",
    "props_pdf"
   ]
  },
  {
   "cell_type": "markdown",
   "id": "35595609-f582-43ad-95ab-84e5e5a85811",
   "metadata": {},
   "source": [
    "##  Load the props"
   ]
  },
  {
   "cell_type": "code",
   "execution_count": 6,
   "id": "2c39e20d-5d8a-4a1e-b5a4-8a6782cad773",
   "metadata": {},
   "outputs": [
    {
     "name": "stderr",
     "output_type": "stream",
     "text": [
      "/Users/mitaylor/opt/anaconda3/envs/snowpark_gis/lib/python3.8/site-packages/snowflake/snowpark/session.py:1766: UserWarning: Pandas Dataframe has non-standard index of type <class 'pandas.core.indexes.base.Index'> which will not be written. Consider changing the index to pd.RangeIndex(start=0,...,step=1) or call reset_index() to keep index as column(s)\n",
      "  success, nchunks, nrows, ci_output = write_pandas(\n"
     ]
    },
    {
     "data": {
      "text/plain": [
       "<snowflake.snowpark.table.Table at 0x7ff0a0eff700>"
      ]
     },
     "execution_count": 6,
     "metadata": {},
     "output_type": "execute_result"
    }
   ],
   "source": [
    "session.write_pandas(df=props_pdf,\n",
    "                     table_name=\"PROP_TABLE\",\n",
    "                     overwrite=True,\n",
    "                     auto_create_table=True)"
   ]
  },
  {
   "cell_type": "markdown",
   "id": "71586a22-355b-4f96-83db-dfb2a17fb67d",
   "metadata": {},
   "source": [
    "## Get the Min Heights"
   ]
  },
  {
   "cell_type": "code",
   "execution_count": 7,
   "id": "325fc15b-b65a-4d98-bcf0-305141c1616d",
   "metadata": {},
   "outputs": [],
   "source": [
    "sdf = session.sql('''SELECT MIN(\"z\") as MIN_Z, HEX\n",
    "  FROM LIDAR_DATASET_HEX \n",
    "  GROUP BY HEX\n",
    "  ORDER BY HEX''')"
   ]
  },
  {
   "cell_type": "code",
   "execution_count": 8,
   "id": "88ec6ddf-23f5-405e-80a7-abdd15fc4fb4",
   "metadata": {},
   "outputs": [],
   "source": [
    "sdf.write.mode(\"overwrite\").save_as_table(\"LIDAR_DATASET_HEX_HEIGHTS\")"
   ]
  },
  {
   "cell_type": "code",
   "execution_count": 9,
   "id": "baa2b6a4-7fb9-4111-9f32-88b756fe706a",
   "metadata": {},
   "outputs": [
    {
     "data": {
      "text/html": [
       "<div>\n",
       "<style scoped>\n",
       "    .dataframe tbody tr th:only-of-type {\n",
       "        vertical-align: middle;\n",
       "    }\n",
       "\n",
       "    .dataframe tbody tr th {\n",
       "        vertical-align: top;\n",
       "    }\n",
       "\n",
       "    .dataframe thead th {\n",
       "        text-align: right;\n",
       "    }\n",
       "</style>\n",
       "<table border=\"1\" class=\"dataframe\">\n",
       "  <thead>\n",
       "    <tr style=\"text-align: right;\">\n",
       "      <th></th>\n",
       "      <th>MIN_Z</th>\n",
       "      <th>HEX</th>\n",
       "    </tr>\n",
       "  </thead>\n",
       "  <tbody>\n",
       "    <tr>\n",
       "      <th>0</th>\n",
       "      <td>17.85</td>\n",
       "      <td>8c194ad36bb2bff</td>\n",
       "    </tr>\n",
       "    <tr>\n",
       "      <th>1</th>\n",
       "      <td>18.14</td>\n",
       "      <td>8c194ad36bb2dff</td>\n",
       "    </tr>\n",
       "    <tr>\n",
       "      <th>2</th>\n",
       "      <td>17.91</td>\n",
       "      <td>8c194ad36bb31ff</td>\n",
       "    </tr>\n",
       "    <tr>\n",
       "      <th>3</th>\n",
       "      <td>17.89</td>\n",
       "      <td>8c194ad36bb33ff</td>\n",
       "    </tr>\n",
       "    <tr>\n",
       "      <th>4</th>\n",
       "      <td>18.03</td>\n",
       "      <td>8c194ad36bb35ff</td>\n",
       "    </tr>\n",
       "  </tbody>\n",
       "</table>\n",
       "</div>"
      ],
      "text/plain": [
       "   MIN_Z              HEX\n",
       "0  17.85  8c194ad36bb2bff\n",
       "1  18.14  8c194ad36bb2dff\n",
       "2  17.91  8c194ad36bb31ff\n",
       "3  17.89  8c194ad36bb33ff\n",
       "4  18.03  8c194ad36bb35ff"
      ]
     },
     "execution_count": 9,
     "metadata": {},
     "output_type": "execute_result"
    }
   ],
   "source": [
    "sdf.limit(5).to_pandas()"
   ]
  },
  {
   "cell_type": "markdown",
   "id": "3889af68-d31b-4142-ad57-dbae5f50e969",
   "metadata": {},
   "source": [
    "# Join Together and Generate Height"
   ]
  },
  {
   "cell_type": "code",
   "execution_count": 10,
   "id": "d8d69c82-2c09-47d2-a648-09cf53f396c2",
   "metadata": {},
   "outputs": [],
   "source": [
    "joined_sdf = session.sql('''SELECT *\n",
    "FROM LIDAR_DATASET_HEX_HEIGHTS\n",
    "JOIN PROP_TABLE \n",
    "ON PROP_TABLE.HEX = LIDAR_DATASET_HEX_HEIGHTS.HEX''')"
   ]
  },
  {
   "cell_type": "code",
   "execution_count": 11,
   "id": "a8c940ad-3fcc-4907-b7a2-a1ed5981d931",
   "metadata": {},
   "outputs": [
    {
     "name": "stdout",
     "output_type": "stream",
     "text": [
      "---------------------------------------------------------------------\n",
      "|\"MIN_Z\"             |\"HEX\"            |\"HEX\"            |\"HEIGHT\"  |\n",
      "---------------------------------------------------------------------\n",
      "|6.76                |8c194ada64049ff  |8c194ada64049ff  |7.04      |\n",
      "|6.76                |8c194ada64049ff  |8c194ada64049ff  |19.07     |\n",
      "|6.76                |8c194ada64049ff  |8c194ada64049ff  |8.33      |\n",
      "|7.0200000000000005  |8c194ada6404dff  |8c194ada6404dff  |12.07     |\n",
      "|7.0200000000000005  |8c194ada6404dff  |8c194ada6404dff  |12.94     |\n",
      "---------------------------------------------------------------------\n",
      "\n"
     ]
    }
   ],
   "source": [
    "joined_sdf.limit(5).show()"
   ]
  },
  {
   "cell_type": "code",
   "execution_count": 15,
   "id": "a46041f2-a810-41ae-a9f9-765a372d2a95",
   "metadata": {},
   "outputs": [],
   "source": [
    "from snowflake.snowpark.types import PandasDataFrameType, IntegerType, StringType, FloatType"
   ]
  },
  {
   "cell_type": "code",
   "execution_count": 16,
   "id": "eb2a5c7f-84bd-4488-b6c4-a1369c331b6a",
   "metadata": {},
   "outputs": [],
   "source": [
    "class k_ring_finder:\n",
    "\n",
    "    def __init__(self):\n",
    "        None\n",
    "        \n",
    "    def end_partition(self, df):\n",
    "        import h3\n",
    "        df.columns = [\"HEX\", \"HEIGHT\", \"K\"]\n",
    "        K = list(df['K'])[0]\n",
    "        HEX = list(df['HEX'])[0]\n",
    "        HEIGHT = list(df['HEIGHT'])[0]\n",
    "        k_ring = list(h3.k_ring(HEX, K))\n",
    "        df_new = pd.DataFrame()\n",
    "        df_new['K_RING_HEX'] = k_ring\n",
    "        df_new['K'] = K\n",
    "        df_new['HEIGHT'] = HEIGHT\n",
    "        df_new['ORIGIN_HEX'] = HEX\n",
    "        yield df_new\n",
    "\n",
    "k_ring_finder.end_partition._sf_vectorized_input = pd.DataFrame"
   ]
  },
  {
   "cell_type": "code",
   "execution_count": 17,
   "id": "933f2c7e-c767-445d-8d35-7395efd73282",
   "metadata": {},
   "outputs": [
    {
     "name": "stderr",
     "output_type": "stream",
     "text": [
      "Package 'h3-py' is not installed in the local environment. Your UDF might not work when the package is installed on the server but not on your local environment.\n",
      "The version of package 'numpy' in the local environment is 1.24.2, which does not fit the criteria for the requirement 'numpy'. Your UDF might not work when the package version is different between the server and your local environment.\n"
     ]
    }
   ],
   "source": [
    "k_ring_finder_udtf = session.udtf.register(\n",
    "    k_ring_finder,\n",
    "    input_types=[PandasDataFrameType([StringType(),\n",
    "                                      FloatType(),\n",
    "                                      IntegerType()]\n",
    "                                    )],\n",
    "    output_schema=PandasDataFrameType([StringType(), IntegerType(), FloatType(), StringType()], [\"K_RING_HEX_\", \"K_\", \"HEIGHT_\", \"ORIGIN_HEX_\"]),\n",
    "    packages=['snowflake-snowpark-python', 'h3-py', 'numpy', 'pandas'])"
   ]
  },
  {
   "cell_type": "code",
   "execution_count": 20,
   "id": "eb884a2e-6960-4f57-88e8-e76b30341649",
   "metadata": {},
   "outputs": [
    {
     "name": "stdout",
     "output_type": "stream",
     "text": [
      "----------------------------------------------\n",
      "|\"HEX\"            |\"HEIGHT\"            |\"K\"  |\n",
      "----------------------------------------------\n",
      "|8c195da59ab65ff  |18.21               |1    |\n",
      "|8c195da58223dff  |44.35               |1    |\n",
      "|8c195da5c2f17ff  |49.67               |1    |\n",
      "|8c195da591b63ff  |36.2                |1    |\n",
      "|8c195da5d2137ff  |49.120000000000005  |1    |\n",
      "|8c195da5b86d3ff  |26.44               |1    |\n",
      "|8c195da5d6b17ff  |59.74               |1    |\n",
      "|8c195da591821ff  |34.300000000000004  |1    |\n",
      "|8c195da590f21ff  |26.22               |1    |\n",
      "|8c195da5b1197ff  |46.64               |1    |\n",
      "----------------------------------------------\n",
      "\n"
     ]
    }
   ],
   "source": [
    "from snowflake.snowpark.functions import col, lit\n",
    "sdf_test = session.table('PROP_TABLE')\n",
    "sdf_test = sdf_test.with_column('K', lit(1))\n",
    "sdf_test.show()"
   ]
  },
  {
   "cell_type": "code",
   "execution_count": 21,
   "id": "a2401c18-8cdd-4dff-8387-5ab81699aaa1",
   "metadata": {},
   "outputs": [],
   "source": [
    "sdf_test = sdf_test.select(k_ring_finder_udtf('hex', 'height', 'k').over(partition_by=['hex']))"
   ]
  },
  {
   "cell_type": "code",
   "execution_count": 22,
   "id": "80a12989-1f65-451e-a864-fc151eab60e9",
   "metadata": {},
   "outputs": [
    {
     "data": {
      "text/html": [
       "<div>\n",
       "<style scoped>\n",
       "    .dataframe tbody tr th:only-of-type {\n",
       "        vertical-align: middle;\n",
       "    }\n",
       "\n",
       "    .dataframe tbody tr th {\n",
       "        vertical-align: top;\n",
       "    }\n",
       "\n",
       "    .dataframe thead th {\n",
       "        text-align: right;\n",
       "    }\n",
       "</style>\n",
       "<table border=\"1\" class=\"dataframe\">\n",
       "  <thead>\n",
       "    <tr style=\"text-align: right;\">\n",
       "      <th></th>\n",
       "      <th>K_RING_HEX_</th>\n",
       "      <th>K_</th>\n",
       "      <th>HEIGHT_</th>\n",
       "      <th>ORIGIN_HEX_</th>\n",
       "    </tr>\n",
       "  </thead>\n",
       "  <tbody>\n",
       "    <tr>\n",
       "      <th>0</th>\n",
       "      <td>8c195da5b04a3ff</td>\n",
       "      <td>1</td>\n",
       "      <td>33.34</td>\n",
       "      <td>8c195da5b04a1ff</td>\n",
       "    </tr>\n",
       "    <tr>\n",
       "      <th>1</th>\n",
       "      <td>8c195da5b04a1ff</td>\n",
       "      <td>1</td>\n",
       "      <td>33.34</td>\n",
       "      <td>8c195da5b04a1ff</td>\n",
       "    </tr>\n",
       "    <tr>\n",
       "      <th>2</th>\n",
       "      <td>8c195da5b04a5ff</td>\n",
       "      <td>1</td>\n",
       "      <td>33.34</td>\n",
       "      <td>8c195da5b04a1ff</td>\n",
       "    </tr>\n",
       "    <tr>\n",
       "      <th>3</th>\n",
       "      <td>8c195da5b04adff</td>\n",
       "      <td>1</td>\n",
       "      <td>33.34</td>\n",
       "      <td>8c195da5b04a1ff</td>\n",
       "    </tr>\n",
       "    <tr>\n",
       "      <th>4</th>\n",
       "      <td>8c195da5b04a9ff</td>\n",
       "      <td>1</td>\n",
       "      <td>33.34</td>\n",
       "      <td>8c195da5b04a1ff</td>\n",
       "    </tr>\n",
       "    <tr>\n",
       "      <th>5</th>\n",
       "      <td>8c195da5b04abff</td>\n",
       "      <td>1</td>\n",
       "      <td>33.34</td>\n",
       "      <td>8c195da5b04a1ff</td>\n",
       "    </tr>\n",
       "    <tr>\n",
       "      <th>6</th>\n",
       "      <td>8c195da5b04a7ff</td>\n",
       "      <td>1</td>\n",
       "      <td>33.34</td>\n",
       "      <td>8c195da5b04a1ff</td>\n",
       "    </tr>\n",
       "    <tr>\n",
       "      <th>7</th>\n",
       "      <td>8c195da5bb265ff</td>\n",
       "      <td>1</td>\n",
       "      <td>29.29</td>\n",
       "      <td>8c195da5bb265ff</td>\n",
       "    </tr>\n",
       "    <tr>\n",
       "      <th>8</th>\n",
       "      <td>8c195da5bb359ff</td>\n",
       "      <td>1</td>\n",
       "      <td>29.29</td>\n",
       "      <td>8c195da5bb265ff</td>\n",
       "    </tr>\n",
       "    <tr>\n",
       "      <th>9</th>\n",
       "      <td>8c195da5bb261ff</td>\n",
       "      <td>1</td>\n",
       "      <td>29.29</td>\n",
       "      <td>8c195da5bb265ff</td>\n",
       "    </tr>\n",
       "    <tr>\n",
       "      <th>10</th>\n",
       "      <td>8c195da5bb26dff</td>\n",
       "      <td>1</td>\n",
       "      <td>29.29</td>\n",
       "      <td>8c195da5bb265ff</td>\n",
       "    </tr>\n",
       "    <tr>\n",
       "      <th>11</th>\n",
       "      <td>8c195da5bb267ff</td>\n",
       "      <td>1</td>\n",
       "      <td>29.29</td>\n",
       "      <td>8c195da5bb265ff</td>\n",
       "    </tr>\n",
       "    <tr>\n",
       "      <th>12</th>\n",
       "      <td>8c195da5bb35bff</td>\n",
       "      <td>1</td>\n",
       "      <td>29.29</td>\n",
       "      <td>8c195da5bb265ff</td>\n",
       "    </tr>\n",
       "    <tr>\n",
       "      <th>13</th>\n",
       "      <td>8c195da5949b3ff</td>\n",
       "      <td>1</td>\n",
       "      <td>29.29</td>\n",
       "      <td>8c195da5bb265ff</td>\n",
       "    </tr>\n",
       "    <tr>\n",
       "      <th>14</th>\n",
       "      <td>8c195da5d5837ff</td>\n",
       "      <td>1</td>\n",
       "      <td>49.35</td>\n",
       "      <td>8c195da5d59ddff</td>\n",
       "    </tr>\n",
       "    <tr>\n",
       "      <th>15</th>\n",
       "      <td>8c195da5d59cbff</td>\n",
       "      <td>1</td>\n",
       "      <td>49.35</td>\n",
       "      <td>8c195da5d59ddff</td>\n",
       "    </tr>\n",
       "    <tr>\n",
       "      <th>16</th>\n",
       "      <td>8c195da5d59d5ff</td>\n",
       "      <td>1</td>\n",
       "      <td>49.35</td>\n",
       "      <td>8c195da5d59ddff</td>\n",
       "    </tr>\n",
       "    <tr>\n",
       "      <th>17</th>\n",
       "      <td>8c195da5d59c3ff</td>\n",
       "      <td>1</td>\n",
       "      <td>49.35</td>\n",
       "      <td>8c195da5d59ddff</td>\n",
       "    </tr>\n",
       "    <tr>\n",
       "      <th>18</th>\n",
       "      <td>8c195da5d59d9ff</td>\n",
       "      <td>1</td>\n",
       "      <td>49.35</td>\n",
       "      <td>8c195da5d59ddff</td>\n",
       "    </tr>\n",
       "    <tr>\n",
       "      <th>19</th>\n",
       "      <td>8c195da5d59ddff</td>\n",
       "      <td>1</td>\n",
       "      <td>49.35</td>\n",
       "      <td>8c195da5d59ddff</td>\n",
       "    </tr>\n",
       "  </tbody>\n",
       "</table>\n",
       "</div>"
      ],
      "text/plain": [
       "        K_RING_HEX_  K_  HEIGHT_      ORIGIN_HEX_\n",
       "0   8c195da5b04a3ff   1    33.34  8c195da5b04a1ff\n",
       "1   8c195da5b04a1ff   1    33.34  8c195da5b04a1ff\n",
       "2   8c195da5b04a5ff   1    33.34  8c195da5b04a1ff\n",
       "3   8c195da5b04adff   1    33.34  8c195da5b04a1ff\n",
       "4   8c195da5b04a9ff   1    33.34  8c195da5b04a1ff\n",
       "5   8c195da5b04abff   1    33.34  8c195da5b04a1ff\n",
       "6   8c195da5b04a7ff   1    33.34  8c195da5b04a1ff\n",
       "7   8c195da5bb265ff   1    29.29  8c195da5bb265ff\n",
       "8   8c195da5bb359ff   1    29.29  8c195da5bb265ff\n",
       "9   8c195da5bb261ff   1    29.29  8c195da5bb265ff\n",
       "10  8c195da5bb26dff   1    29.29  8c195da5bb265ff\n",
       "11  8c195da5bb267ff   1    29.29  8c195da5bb265ff\n",
       "12  8c195da5bb35bff   1    29.29  8c195da5bb265ff\n",
       "13  8c195da5949b3ff   1    29.29  8c195da5bb265ff\n",
       "14  8c195da5d5837ff   1    49.35  8c195da5d59ddff\n",
       "15  8c195da5d59cbff   1    49.35  8c195da5d59ddff\n",
       "16  8c195da5d59d5ff   1    49.35  8c195da5d59ddff\n",
       "17  8c195da5d59c3ff   1    49.35  8c195da5d59ddff\n",
       "18  8c195da5d59d9ff   1    49.35  8c195da5d59ddff\n",
       "19  8c195da5d59ddff   1    49.35  8c195da5d59ddff"
      ]
     },
     "execution_count": 22,
     "metadata": {},
     "output_type": "execute_result"
    }
   ],
   "source": [
    "sdf_test.limit(20).to_pandas()"
   ]
  },
  {
   "cell_type": "code",
   "execution_count": 23,
   "id": "4f20a9e3-15df-4603-84ce-bb49ae4e3611",
   "metadata": {},
   "outputs": [],
   "source": [
    "sdf_test.write.mode(\"overwrite\").save_as_table(\"PROP_TABLE_HEX_K\")"
   ]
  },
  {
   "cell_type": "code",
   "execution_count": 24,
   "id": "e0938e4d-7d67-4532-afbc-062e2697dc73",
   "metadata": {},
   "outputs": [
    {
     "name": "stdout",
     "output_type": "stream",
     "text": [
      "CPU times: user 26.7 ms, sys: 7.56 ms, total: 34.3 ms\n",
      "Wall time: 823 ms\n"
     ]
    },
    {
     "data": {
      "text/html": [
       "<div>\n",
       "<style scoped>\n",
       "    .dataframe tbody tr th:only-of-type {\n",
       "        vertical-align: middle;\n",
       "    }\n",
       "\n",
       "    .dataframe tbody tr th {\n",
       "        vertical-align: top;\n",
       "    }\n",
       "\n",
       "    .dataframe thead th {\n",
       "        text-align: right;\n",
       "    }\n",
       "</style>\n",
       "<table border=\"1\" class=\"dataframe\">\n",
       "  <thead>\n",
       "    <tr style=\"text-align: right;\">\n",
       "      <th></th>\n",
       "      <th>MIN_Z</th>\n",
       "      <th>HEX</th>\n",
       "      <th>K_RING_HEX_</th>\n",
       "      <th>K_</th>\n",
       "      <th>HEIGHT_</th>\n",
       "      <th>ORIGIN_HEX_</th>\n",
       "    </tr>\n",
       "  </thead>\n",
       "  <tbody>\n",
       "    <tr>\n",
       "      <th>0</th>\n",
       "      <td>6.76</td>\n",
       "      <td>8c194ada64049ff</td>\n",
       "      <td>8c194ada64049ff</td>\n",
       "      <td>1</td>\n",
       "      <td>12.07</td>\n",
       "      <td>8c194ada6404dff</td>\n",
       "    </tr>\n",
       "    <tr>\n",
       "      <th>1</th>\n",
       "      <td>6.76</td>\n",
       "      <td>8c194ada64049ff</td>\n",
       "      <td>8c194ada64049ff</td>\n",
       "      <td>1</td>\n",
       "      <td>6.96</td>\n",
       "      <td>8c194ada64227ff</td>\n",
       "    </tr>\n",
       "    <tr>\n",
       "      <th>2</th>\n",
       "      <td>6.76</td>\n",
       "      <td>8c194ada64049ff</td>\n",
       "      <td>8c194ada64049ff</td>\n",
       "      <td>1</td>\n",
       "      <td>16.42</td>\n",
       "      <td>8c194ada64223ff</td>\n",
       "    </tr>\n",
       "    <tr>\n",
       "      <th>3</th>\n",
       "      <td>6.76</td>\n",
       "      <td>8c194ada64049ff</td>\n",
       "      <td>8c194ada64049ff</td>\n",
       "      <td>1</td>\n",
       "      <td>21.16</td>\n",
       "      <td>8c194ada64235ff</td>\n",
       "    </tr>\n",
       "    <tr>\n",
       "      <th>4</th>\n",
       "      <td>6.76</td>\n",
       "      <td>8c194ada64049ff</td>\n",
       "      <td>8c194ada64049ff</td>\n",
       "      <td>1</td>\n",
       "      <td>7.04</td>\n",
       "      <td>8c194ada64049ff</td>\n",
       "    </tr>\n",
       "    <tr>\n",
       "      <th>5</th>\n",
       "      <td>6.75</td>\n",
       "      <td>8c194ada6404bff</td>\n",
       "      <td>8c194ada6404bff</td>\n",
       "      <td>1</td>\n",
       "      <td>21.16</td>\n",
       "      <td>8c194ada64235ff</td>\n",
       "    </tr>\n",
       "    <tr>\n",
       "      <th>6</th>\n",
       "      <td>6.75</td>\n",
       "      <td>8c194ada6404bff</td>\n",
       "      <td>8c194ada6404bff</td>\n",
       "      <td>1</td>\n",
       "      <td>7.04</td>\n",
       "      <td>8c194ada64049ff</td>\n",
       "    </tr>\n",
       "    <tr>\n",
       "      <th>7</th>\n",
       "      <td>7.02</td>\n",
       "      <td>8c194ada6404dff</td>\n",
       "      <td>8c194ada6404dff</td>\n",
       "      <td>1</td>\n",
       "      <td>12.07</td>\n",
       "      <td>8c194ada6404dff</td>\n",
       "    </tr>\n",
       "    <tr>\n",
       "      <th>8</th>\n",
       "      <td>7.02</td>\n",
       "      <td>8c194ada6404dff</td>\n",
       "      <td>8c194ada6404dff</td>\n",
       "      <td>1</td>\n",
       "      <td>6.96</td>\n",
       "      <td>8c194ada64227ff</td>\n",
       "    </tr>\n",
       "    <tr>\n",
       "      <th>9</th>\n",
       "      <td>7.02</td>\n",
       "      <td>8c194ada6404dff</td>\n",
       "      <td>8c194ada6404dff</td>\n",
       "      <td>1</td>\n",
       "      <td>7.04</td>\n",
       "      <td>8c194ada64049ff</td>\n",
       "    </tr>\n",
       "    <tr>\n",
       "      <th>10</th>\n",
       "      <td>7.02</td>\n",
       "      <td>8c194ada6404dff</td>\n",
       "      <td>8c194ada6404dff</td>\n",
       "      <td>1</td>\n",
       "      <td>7.34</td>\n",
       "      <td>8c194ada6431bff</td>\n",
       "    </tr>\n",
       "    <tr>\n",
       "      <th>11</th>\n",
       "      <td>7.12</td>\n",
       "      <td>8c194ada64059ff</td>\n",
       "      <td>8c194ada64059ff</td>\n",
       "      <td>1</td>\n",
       "      <td>7.18</td>\n",
       "      <td>8c194ada642e5ff</td>\n",
       "    </tr>\n",
       "    <tr>\n",
       "      <th>12</th>\n",
       "      <td>7.24</td>\n",
       "      <td>8c194ada64201ff</td>\n",
       "      <td>8c194ada64201ff</td>\n",
       "      <td>1</td>\n",
       "      <td>12.56</td>\n",
       "      <td>8c194ada64203ff</td>\n",
       "    </tr>\n",
       "    <tr>\n",
       "      <th>13</th>\n",
       "      <td>7.24</td>\n",
       "      <td>8c194ada64201ff</td>\n",
       "      <td>8c194ada64201ff</td>\n",
       "      <td>1</td>\n",
       "      <td>10.07</td>\n",
       "      <td>8c194ada6420bff</td>\n",
       "    </tr>\n",
       "    <tr>\n",
       "      <th>14</th>\n",
       "      <td>7.24</td>\n",
       "      <td>8c194ada64201ff</td>\n",
       "      <td>8c194ada64201ff</td>\n",
       "      <td>1</td>\n",
       "      <td>7.38</td>\n",
       "      <td>8c194ada6420dff</td>\n",
       "    </tr>\n",
       "    <tr>\n",
       "      <th>15</th>\n",
       "      <td>7.24</td>\n",
       "      <td>8c194ada64201ff</td>\n",
       "      <td>8c194ada64201ff</td>\n",
       "      <td>1</td>\n",
       "      <td>26.59</td>\n",
       "      <td>8c194ada64205ff</td>\n",
       "    </tr>\n",
       "    <tr>\n",
       "      <th>16</th>\n",
       "      <td>7.24</td>\n",
       "      <td>8c194ada64201ff</td>\n",
       "      <td>8c194ada64201ff</td>\n",
       "      <td>1</td>\n",
       "      <td>7.30</td>\n",
       "      <td>8c194ada64207ff</td>\n",
       "    </tr>\n",
       "    <tr>\n",
       "      <th>17</th>\n",
       "      <td>7.24</td>\n",
       "      <td>8c194ada64201ff</td>\n",
       "      <td>8c194ada64201ff</td>\n",
       "      <td>1</td>\n",
       "      <td>8.58</td>\n",
       "      <td>8c194ada64209ff</td>\n",
       "    </tr>\n",
       "    <tr>\n",
       "      <th>18</th>\n",
       "      <td>7.00</td>\n",
       "      <td>8c194ada64203ff</td>\n",
       "      <td>8c194ada64203ff</td>\n",
       "      <td>1</td>\n",
       "      <td>12.56</td>\n",
       "      <td>8c194ada64203ff</td>\n",
       "    </tr>\n",
       "    <tr>\n",
       "      <th>19</th>\n",
       "      <td>7.00</td>\n",
       "      <td>8c194ada64203ff</td>\n",
       "      <td>8c194ada64203ff</td>\n",
       "      <td>1</td>\n",
       "      <td>10.07</td>\n",
       "      <td>8c194ada6420bff</td>\n",
       "    </tr>\n",
       "  </tbody>\n",
       "</table>\n",
       "</div>"
      ],
      "text/plain": [
       "    MIN_Z              HEX      K_RING_HEX_  K_  HEIGHT_      ORIGIN_HEX_\n",
       "0    6.76  8c194ada64049ff  8c194ada64049ff   1    12.07  8c194ada6404dff\n",
       "1    6.76  8c194ada64049ff  8c194ada64049ff   1     6.96  8c194ada64227ff\n",
       "2    6.76  8c194ada64049ff  8c194ada64049ff   1    16.42  8c194ada64223ff\n",
       "3    6.76  8c194ada64049ff  8c194ada64049ff   1    21.16  8c194ada64235ff\n",
       "4    6.76  8c194ada64049ff  8c194ada64049ff   1     7.04  8c194ada64049ff\n",
       "5    6.75  8c194ada6404bff  8c194ada6404bff   1    21.16  8c194ada64235ff\n",
       "6    6.75  8c194ada6404bff  8c194ada6404bff   1     7.04  8c194ada64049ff\n",
       "7    7.02  8c194ada6404dff  8c194ada6404dff   1    12.07  8c194ada6404dff\n",
       "8    7.02  8c194ada6404dff  8c194ada6404dff   1     6.96  8c194ada64227ff\n",
       "9    7.02  8c194ada6404dff  8c194ada6404dff   1     7.04  8c194ada64049ff\n",
       "10   7.02  8c194ada6404dff  8c194ada6404dff   1     7.34  8c194ada6431bff\n",
       "11   7.12  8c194ada64059ff  8c194ada64059ff   1     7.18  8c194ada642e5ff\n",
       "12   7.24  8c194ada64201ff  8c194ada64201ff   1    12.56  8c194ada64203ff\n",
       "13   7.24  8c194ada64201ff  8c194ada64201ff   1    10.07  8c194ada6420bff\n",
       "14   7.24  8c194ada64201ff  8c194ada64201ff   1     7.38  8c194ada6420dff\n",
       "15   7.24  8c194ada64201ff  8c194ada64201ff   1    26.59  8c194ada64205ff\n",
       "16   7.24  8c194ada64201ff  8c194ada64201ff   1     7.30  8c194ada64207ff\n",
       "17   7.24  8c194ada64201ff  8c194ada64201ff   1     8.58  8c194ada64209ff\n",
       "18   7.00  8c194ada64203ff  8c194ada64203ff   1    12.56  8c194ada64203ff\n",
       "19   7.00  8c194ada64203ff  8c194ada64203ff   1    10.07  8c194ada6420bff"
      ]
     },
     "execution_count": 24,
     "metadata": {},
     "output_type": "execute_result"
    }
   ],
   "source": [
    "%%time\n",
    "joined_sdf = session.sql('''SELECT *\n",
    "FROM LIDAR_DATASET_HEX_HEIGHTS\n",
    "JOIN PROP_TABLE_HEX_K \n",
    "ON PROP_TABLE_HEX_K.K_RING_HEX_ = LIDAR_DATASET_HEX_HEIGHTS.HEX''')\n",
    "joined_sdf.limit(20).to_pandas()"
   ]
  },
  {
   "cell_type": "code",
   "execution_count": null,
   "id": "c832b188-eb70-46b4-afe6-42e9531c3406",
   "metadata": {},
   "outputs": [],
   "source": []
  },
  {
   "cell_type": "markdown",
   "id": "f0fcf157-abe8-401f-9efa-b9b707141aa1",
   "metadata": {},
   "source": [
    "process is as follows:\n",
    "\n",
    "1. Get the location of any property into PROP_SDF\n",
    "2. Enrich PROP_SDF with the H311 location of the property\n",
    "3. Enrich PROP_SDF with the H311 \"avg height\"\n",
    "4. Enrich/Expand PROP_SDF with the kring for each the H311 (just 1 for time being) <-- note the table should be 7 large because of the tesselation\n",
    "5. PROP_SDF inner join LIDAR DATA (at H311) as FULL_TABLE\n",
    "6. FULL_TABLE do group by on K_RING_ to get min heights added (and dump a bunch of cols while you're at it)\n",
    "7. do the delta"
   ]
  },
  {
   "cell_type": "markdown",
   "id": "a3746a7f-02a3-4a2e-a696-48a8f80e2eb0",
   "metadata": {},
   "source": [
    "# Scratch Pad"
   ]
  },
  {
   "cell_type": "markdown",
   "id": "96a25555-c2d5-40be-ba7e-002e871883c2",
   "metadata": {},
   "source": [
    "## WIP Parallelising Import Efficiently"
   ]
  },
  {
   "cell_type": "code",
   "execution_count": 84,
   "id": "6528262b-2910-4975-bda4-e7ea380f0f93",
   "metadata": {},
   "outputs": [
    {
     "name": "stderr",
     "output_type": "stream",
     "text": [
      "Package 'lazrs-python' is not installed in the local environment. Your UDF might not work when the package is installed on the server but not on your local environment.\n"
     ]
    }
   ],
   "source": [
    "from snowflake.snowpark.types import PandasDataFrameType, IntegerType, StringType, FloatType, DateType\n",
    "\n",
    "class Ingest_Laz:\n",
    "    \"\"\"\n",
    "    UDTF class to read, transform and load LAZ Files\n",
    "\n",
    "    Yields\n",
    "    -------\n",
    "    lidar_df : DataFrame\n",
    "        DataFrame with the \"x\",\"y\",\"z\",\"intensity\",\"classification\", \"scan_angle_rank\"\n",
    "\n",
    "    \"\"\"\n",
    "    def __init__(self):\n",
    "        None\n",
    "        \n",
    "    def end_partition(self, df):\n",
    "        from snowflake.snowpark.files import SnowflakeFile\n",
    "        import pandas as pd\n",
    "        from pyproj import Proj, transform\n",
    "        import pandas as pd\n",
    "        v84 = Proj(proj=\"latlong\",towgs84=\"0,0,0\",ellps=\"WGS84\")\n",
    "        v36 = Proj(proj=\"latlong\", k=0.9996012717, ellps=\"airy\",\n",
    "                towgs84=\"446.448,-125.157,542.060,0.1502,0.2470,0.8421,-20.4894\")\n",
    "        vgrid = Proj(init=\"world:bng\")\n",
    "\n",
    "        def vectorized_convert(df):\n",
    "            vlon36, vlat36 = vgrid(df['x'].values, \n",
    "                                   df['y'].values, \n",
    "                                   inverse=True)\n",
    "            converted = transform(v36, v84, vlon36, vlat36)\n",
    "            df['longitude'] = converted[0]\n",
    "            df['latitude'] = converted[1]\n",
    "            return df\n",
    "        \n",
    "        scoped_url = df.iloc[0][0]\n",
    "       \n",
    "        with SnowflakeFile.open(scoped_url, 'rb') as f:\n",
    "            inFile = laspy.read(f)\n",
    "\n",
    "            #Import LAS into numpy array (X=raw integer value x=scaled float value)\n",
    "            lidar_points = np.array((inFile.x,inFile.y,inFile.z,inFile.intensity,\n",
    "                           inFile.raw_classification,inFile.scan_angle_rank)).transpose()\n",
    "            \n",
    "            #Transform to pandas DataFrame\n",
    "            lidar_df=pd.DataFrame(lidar_points, columns=[\"x_\",\"y_\",\"z_\",\"intensity_\",\"classification_\", \"scan_angle_rank_\"])\n",
    "    \n",
    "            #Update with Long/Lat\n",
    "            lidar_df = vectorized_convert(lidar_df)\n",
    "        yield df # lidar_df\n",
    "        \n",
    "Ingest_Laz.end_partition._sf_vectorized_input = pd.DataFrame\n",
    "\n",
    "laz_prep_udtf = session.udtf.register(\n",
    "    handler=Ingest_Laz, # the class\n",
    "    input_types=[PandasDataFrameType([StringType()])], \n",
    "    output_schema=PandasDataFrameType([StringType(),FloatType(),FloatType(),FloatType(),FloatType(),FloatType()],\n",
    "                                      [\"x\",\"y\",\"z\",\"intensity\",\"classification\", \"scan_angle_rank\"]),\n",
    "    packages=[\"snowflake-snowpark-python\", 'pandas', 'laspy', 'lazrs-python', 'pyproj'])  "
   ]
  },
  {
   "cell_type": "code",
   "execution_count": 85,
   "id": "fed3e66c-8a6f-4dcf-aaad-ce379ca0c3c7",
   "metadata": {},
   "outputs": [
    {
     "data": {
      "text/plain": [
       "[Row(status='View LAZ_FILES successfully created.')]"
      ]
     },
     "execution_count": 85,
     "metadata": {},
     "output_type": "execute_result"
    }
   ],
   "source": [
    "sdf = session.sql('LS @LAZ_S3_STAGE')\n",
    "sdf.write.save_as_table(\"URLS\", mode=\"append\")\n",
    "session.sql(\"\"\"CREATE OR REPLACE SECURE VIEW LAZ_FILES\n",
    "AS\n",
    "  SELECT BUILD_SCOPED_FILE_URL(@LAZ_S3_STAGE, '\"name\"') scoped_url\n",
    "  FROM URLS;\"\"\").collect()"
   ]
  },
  {
   "cell_type": "code",
   "execution_count": 86,
   "id": "c74b81e1-6e6b-450b-b660-f82aa5c437a1",
   "metadata": {},
   "outputs": [
    {
     "name": "stdout",
     "output_type": "stream",
     "text": [
      "--------------------------------------------------------------------------------------------------------------------------------------\n",
      "|\"name\"                                              |\"size\"    |\"md5\"                               |\"last_modified\"                |\n",
      "--------------------------------------------------------------------------------------------------------------------------------------\n",
      "|s3://mtaylor-raw-data-store/laz/TQ2080_P_9983_2...  |12135892  |160f236219c5b34354508702cde549a2    |Mon, 31 Jul 2023 14:25:11 GMT  |\n",
      "|s3://mtaylor-raw-data-store/laz/TQ2082_P_9983_2...  |11113655  |4dba0ace4ccbfa21f825fda13b2f3a8c    |Mon, 31 Jul 2023 14:27:51 GMT  |\n",
      "|s3://mtaylor-raw-data-store/laz/TQ2084_P_9983_2...  |552357    |c89abbdf9da9e25a2b232210447b436f    |Mon, 31 Jul 2023 14:27:31 GMT  |\n",
      "|s3://mtaylor-raw-data-store/laz/TQ2280_P_9983_2...  |7218310   |664d0c2b9963ba7d32ecc2fdd983ea92    |Mon, 31 Jul 2023 14:27:16 GMT  |\n",
      "|s3://mtaylor-raw-data-store/laz/TQ2282_P_9983_2...  |35108512  |fb084d58a1acc43f890fffb8d54c2f45-3  |Mon, 31 Jul 2023 14:25:07 GMT  |\n",
      "|s3://mtaylor-raw-data-store/laz/TQ2284_P_9983_2...  |28803653  |2b3c1ab85886e00b32c421be1c986d61-2  |Mon, 31 Jul 2023 14:25:07 GMT  |\n",
      "|s3://mtaylor-raw-data-store/laz/TQ2286_P_9983_2...  |4307912   |1a092a0fd37d105f377f55752998c0d1    |Mon, 31 Jul 2023 14:26:17 GMT  |\n",
      "|s3://mtaylor-raw-data-store/laz/TQ2480_P_9983_2...  |1785829   |212a25b22399d38bdb196017775a2e6a    |Mon, 31 Jul 2023 14:25:54 GMT  |\n",
      "|s3://mtaylor-raw-data-store/laz/TQ2482_P_9983_2...  |32291531  |5f90b411dc664c6c47307c240c560de3-2  |Mon, 31 Jul 2023 14:25:07 GMT  |\n",
      "|s3://mtaylor-raw-data-store/laz/TQ2484_P_9983_2...  |38356034  |57f4e2ee6d8a614bfca178928d2df930-3  |Mon, 31 Jul 2023 14:25:07 GMT  |\n",
      "--------------------------------------------------------------------------------------------------------------------------------------\n",
      "\n"
     ]
    }
   ],
   "source": [
    "session.sql('LS @LAZ_S3_STAGE').show()\n"
   ]
  },
  {
   "cell_type": "code",
   "execution_count": 87,
   "id": "3b19360a-88e3-4850-8765-34fe9927f945",
   "metadata": {},
   "outputs": [
    {
     "data": {
      "text/html": [
       "<div>\n",
       "<style scoped>\n",
       "    .dataframe tbody tr th:only-of-type {\n",
       "        vertical-align: middle;\n",
       "    }\n",
       "\n",
       "    .dataframe tbody tr th {\n",
       "        vertical-align: top;\n",
       "    }\n",
       "\n",
       "    .dataframe thead th {\n",
       "        text-align: right;\n",
       "    }\n",
       "</style>\n",
       "<table border=\"1\" class=\"dataframe\">\n",
       "  <thead>\n",
       "    <tr style=\"text-align: right;\">\n",
       "      <th></th>\n",
       "      <th>SCOPED_URL</th>\n",
       "    </tr>\n",
       "  </thead>\n",
       "  <tbody>\n",
       "    <tr>\n",
       "      <th>0</th>\n",
       "      <td>https://be74032.eu-west-2.aws.snowflakecomputi...</td>\n",
       "    </tr>\n",
       "    <tr>\n",
       "      <th>1</th>\n",
       "      <td>https://be74032.eu-west-2.aws.snowflakecomputi...</td>\n",
       "    </tr>\n",
       "    <tr>\n",
       "      <th>2</th>\n",
       "      <td>https://be74032.eu-west-2.aws.snowflakecomputi...</td>\n",
       "    </tr>\n",
       "    <tr>\n",
       "      <th>3</th>\n",
       "      <td>https://be74032.eu-west-2.aws.snowflakecomputi...</td>\n",
       "    </tr>\n",
       "    <tr>\n",
       "      <th>4</th>\n",
       "      <td>https://be74032.eu-west-2.aws.snowflakecomputi...</td>\n",
       "    </tr>\n",
       "  </tbody>\n",
       "</table>\n",
       "</div>"
      ],
      "text/plain": [
       "                                          SCOPED_URL\n",
       "0  https://be74032.eu-west-2.aws.snowflakecomputi...\n",
       "1  https://be74032.eu-west-2.aws.snowflakecomputi...\n",
       "2  https://be74032.eu-west-2.aws.snowflakecomputi...\n",
       "3  https://be74032.eu-west-2.aws.snowflakecomputi...\n",
       "4  https://be74032.eu-west-2.aws.snowflakecomputi..."
      ]
     },
     "execution_count": 87,
     "metadata": {},
     "output_type": "execute_result"
    }
   ],
   "source": [
    "sdf_final = session.table(\"LAZ_FILES\")\n",
    "sdf_final.limit(5).to_pandas()"
   ]
  },
  {
   "cell_type": "code",
   "execution_count": 88,
   "id": "862257ee-5c8f-4958-816c-c634437bbcfc",
   "metadata": {},
   "outputs": [
    {
     "ename": "SnowparkSQLException",
     "evalue": "(1304): 01afc7a4-0000-9f64-0000-f1490048372a: 100357 (P0000): Python Interpreter Error:\nTraceback (most recent call last):\n  File \"_udf_code.py\", line 4, in <module>\n  File \"/usr/lib/python_udf/ba8972a674112c44f5ff7919df4637aff7052f43f0850f500ce5585cded9a06b/lib/python3.8/site-packages/cloudpickle/cloudpickle.py\", line 679, in subimport\n    __import__(name)\n  File \"/usr/lib/python_udf/ba8972a674112c44f5ff7919df4637aff7052f43f0850f500ce5585cded9a06b/lib/python3.8/site-packages/laspy/__init__.py\", line 6, in <module>\n    from .copc import CopcReader, Bounds\n  File \"/usr/lib/python_udf/ba8972a674112c44f5ff7919df4637aff7052f43f0850f500ce5585cded9a06b/lib/python3.8/site-packages/laspy/copc.py\", line 34, in <module>\n    DEFAULT_HTTP_WORKERS_NUM = multiprocessing.cpu_count() * 5\n  File \"/usr/lib/python_udf/ba8972a674112c44f5ff7919df4637aff7052f43f0850f500ce5585cded9a06b/lib/python3.8/multiprocessing/context.py\", line 45, in cpu_count\n    raise NotImplementedError('cannot determine number of cpus')\nNotImplementedError: cannot determine number of cpus\n in function SNOWPARK_TEMP_TABLE_FUNCTION_EHXT3RKZKJ with handler compute",
     "output_type": "error",
     "traceback": [
      "\u001b[0;31m---------------------------------------------------------------------------\u001b[0m",
      "\u001b[0;31mSnowparkSQLException\u001b[0m                      Traceback (most recent call last)",
      "File \u001b[0;32m<timed exec>:3\u001b[0m\n",
      "File \u001b[0;32m~/opt/anaconda3/envs/snowpark_gis/lib/python3.8/site-packages/snowflake/snowpark/_internal/telemetry.py:139\u001b[0m, in \u001b[0;36mdf_collect_api_telemetry.<locals>.wrap\u001b[0;34m(*args, **kwargs)\u001b[0m\n\u001b[1;32m    136\u001b[0m \u001b[38;5;129m@functools\u001b[39m\u001b[38;5;241m.\u001b[39mwraps(func)\n\u001b[1;32m    137\u001b[0m \u001b[38;5;28;01mdef\u001b[39;00m \u001b[38;5;21mwrap\u001b[39m(\u001b[38;5;241m*\u001b[39margs, \u001b[38;5;241m*\u001b[39m\u001b[38;5;241m*\u001b[39mkwargs):\n\u001b[1;32m    138\u001b[0m     \u001b[38;5;28;01mwith\u001b[39;00m args[\u001b[38;5;241m0\u001b[39m]\u001b[38;5;241m.\u001b[39m_session\u001b[38;5;241m.\u001b[39mquery_history() \u001b[38;5;28;01mas\u001b[39;00m query_history:\n\u001b[0;32m--> 139\u001b[0m         result \u001b[38;5;241m=\u001b[39m \u001b[43mfunc\u001b[49m\u001b[43m(\u001b[49m\u001b[38;5;241;43m*\u001b[39;49m\u001b[43margs\u001b[49m\u001b[43m,\u001b[49m\u001b[43m \u001b[49m\u001b[38;5;241;43m*\u001b[39;49m\u001b[38;5;241;43m*\u001b[39;49m\u001b[43mkwargs\u001b[49m\u001b[43m)\u001b[49m\n\u001b[1;32m    140\u001b[0m     plan \u001b[38;5;241m=\u001b[39m args[\u001b[38;5;241m0\u001b[39m]\u001b[38;5;241m.\u001b[39m_select_statement \u001b[38;5;129;01mor\u001b[39;00m args[\u001b[38;5;241m0\u001b[39m]\u001b[38;5;241m.\u001b[39m_plan\n\u001b[1;32m    141\u001b[0m     api_calls \u001b[38;5;241m=\u001b[39m [\n\u001b[1;32m    142\u001b[0m         \u001b[38;5;241m*\u001b[39mplan\u001b[38;5;241m.\u001b[39mapi_calls,\n\u001b[1;32m    143\u001b[0m         {TelemetryField\u001b[38;5;241m.\u001b[39mNAME\u001b[38;5;241m.\u001b[39mvalue: \u001b[38;5;124mf\u001b[39m\u001b[38;5;124m\"\u001b[39m\u001b[38;5;124mDataFrame.\u001b[39m\u001b[38;5;132;01m{\u001b[39;00mfunc\u001b[38;5;241m.\u001b[39m\u001b[38;5;18m__name__\u001b[39m\u001b[38;5;132;01m}\u001b[39;00m\u001b[38;5;124m\"\u001b[39m},\n\u001b[1;32m    144\u001b[0m     ]\n",
      "File \u001b[0;32m~/opt/anaconda3/envs/snowpark_gis/lib/python3.8/site-packages/snowflake/snowpark/dataframe.py:766\u001b[0m, in \u001b[0;36mDataFrame.to_pandas\u001b[0;34m(self, statement_params, block, **kwargs)\u001b[0m\n\u001b[1;32m    740\u001b[0m \u001b[38;5;129m@df_collect_api_telemetry\u001b[39m\n\u001b[1;32m    741\u001b[0m \u001b[38;5;28;01mdef\u001b[39;00m \u001b[38;5;21mto_pandas\u001b[39m(\n\u001b[1;32m    742\u001b[0m     \u001b[38;5;28mself\u001b[39m,\n\u001b[0;32m   (...)\u001b[0m\n\u001b[1;32m    746\u001b[0m     \u001b[38;5;241m*\u001b[39m\u001b[38;5;241m*\u001b[39mkwargs: Dict[\u001b[38;5;28mstr\u001b[39m, Any],\n\u001b[1;32m    747\u001b[0m ) \u001b[38;5;241m-\u001b[39m\u001b[38;5;241m>\u001b[39m Union[\u001b[38;5;124m\"\u001b[39m\u001b[38;5;124mpandas.DataFrame\u001b[39m\u001b[38;5;124m\"\u001b[39m, AsyncJob]:\n\u001b[1;32m    748\u001b[0m \u001b[38;5;250m    \u001b[39m\u001b[38;5;124;03m\"\"\"\u001b[39;00m\n\u001b[1;32m    749\u001b[0m \u001b[38;5;124;03m    Executes the query representing this DataFrame and returns the result as a\u001b[39;00m\n\u001b[1;32m    750\u001b[0m \u001b[38;5;124;03m    `Pandas DataFrame <https://pandas.pydata.org/pandas-docs/stable/reference/api/pandas.DataFrame.html>`_.\u001b[39;00m\n\u001b[0;32m   (...)\u001b[0m\n\u001b[1;32m    764\u001b[0m \u001b[38;5;124;03m        :func:`Session.sql` can only be a SELECT statement.\u001b[39;00m\n\u001b[1;32m    765\u001b[0m \u001b[38;5;124;03m    \"\"\"\u001b[39;00m\n\u001b[0;32m--> 766\u001b[0m     result \u001b[38;5;241m=\u001b[39m \u001b[38;5;28;43mself\u001b[39;49m\u001b[38;5;241;43m.\u001b[39;49m\u001b[43m_session\u001b[49m\u001b[38;5;241;43m.\u001b[39;49m\u001b[43m_conn\u001b[49m\u001b[38;5;241;43m.\u001b[39;49m\u001b[43mexecute\u001b[49m\u001b[43m(\u001b[49m\n\u001b[1;32m    767\u001b[0m \u001b[43m        \u001b[49m\u001b[38;5;28;43mself\u001b[39;49m\u001b[38;5;241;43m.\u001b[39;49m\u001b[43m_plan\u001b[49m\u001b[43m,\u001b[49m\n\u001b[1;32m    768\u001b[0m \u001b[43m        \u001b[49m\u001b[43mto_pandas\u001b[49m\u001b[38;5;241;43m=\u001b[39;49m\u001b[38;5;28;43;01mTrue\u001b[39;49;00m\u001b[43m,\u001b[49m\n\u001b[1;32m    769\u001b[0m \u001b[43m        \u001b[49m\u001b[43mblock\u001b[49m\u001b[38;5;241;43m=\u001b[39;49m\u001b[43mblock\u001b[49m\u001b[43m,\u001b[49m\n\u001b[1;32m    770\u001b[0m \u001b[43m        \u001b[49m\u001b[43mdata_type\u001b[49m\u001b[38;5;241;43m=\u001b[39;49m\u001b[43m_AsyncResultType\u001b[49m\u001b[38;5;241;43m.\u001b[39;49m\u001b[43mPANDAS\u001b[49m\u001b[43m,\u001b[49m\n\u001b[1;32m    771\u001b[0m \u001b[43m        \u001b[49m\u001b[43m_statement_params\u001b[49m\u001b[38;5;241;43m=\u001b[39;49m\u001b[43mcreate_or_update_statement_params_with_query_tag\u001b[49m\u001b[43m(\u001b[49m\n\u001b[1;32m    772\u001b[0m \u001b[43m            \u001b[49m\u001b[43mstatement_params\u001b[49m\u001b[43m \u001b[49m\u001b[38;5;129;43;01mor\u001b[39;49;00m\u001b[43m \u001b[49m\u001b[38;5;28;43mself\u001b[39;49m\u001b[38;5;241;43m.\u001b[39;49m\u001b[43m_statement_params\u001b[49m\u001b[43m,\u001b[49m\n\u001b[1;32m    773\u001b[0m \u001b[43m            \u001b[49m\u001b[38;5;28;43mself\u001b[39;49m\u001b[38;5;241;43m.\u001b[39;49m\u001b[43m_session\u001b[49m\u001b[38;5;241;43m.\u001b[39;49m\u001b[43mquery_tag\u001b[49m\u001b[43m,\u001b[49m\n\u001b[1;32m    774\u001b[0m \u001b[43m            \u001b[49m\u001b[43mSKIP_LEVELS_TWO\u001b[49m\u001b[43m,\u001b[49m\n\u001b[1;32m    775\u001b[0m \u001b[43m        \u001b[49m\u001b[43m)\u001b[49m\u001b[43m,\u001b[49m\n\u001b[1;32m    776\u001b[0m \u001b[43m        \u001b[49m\u001b[38;5;241;43m*\u001b[39;49m\u001b[38;5;241;43m*\u001b[39;49m\u001b[43mkwargs\u001b[49m\u001b[43m,\u001b[49m\n\u001b[1;32m    777\u001b[0m \u001b[43m    \u001b[49m\u001b[43m)\u001b[49m\n\u001b[1;32m    779\u001b[0m     \u001b[38;5;66;03m# if the returned result is not a pandas dataframe, raise Exception\u001b[39;00m\n\u001b[1;32m    780\u001b[0m     \u001b[38;5;66;03m# this might happen when calling this method with non-select commands\u001b[39;00m\n\u001b[1;32m    781\u001b[0m     \u001b[38;5;66;03m# e.g., session.sql(\"create ...\").to_pandas()\u001b[39;00m\n\u001b[1;32m    782\u001b[0m     \u001b[38;5;28;01mif\u001b[39;00m block:\n",
      "File \u001b[0;32m~/opt/anaconda3/envs/snowpark_gis/lib/python3.8/site-packages/snowflake/snowpark/_internal/server_connection.py:445\u001b[0m, in \u001b[0;36mServerConnection.execute\u001b[0;34m(self, plan, to_pandas, to_iter, block, data_type, log_on_exception, case_sensitive, **kwargs)\u001b[0m\n\u001b[1;32m    441\u001b[0m \u001b[38;5;28;01mif\u001b[39;00m is_in_stored_procedure() \u001b[38;5;129;01mand\u001b[39;00m \u001b[38;5;129;01mnot\u001b[39;00m block:  \u001b[38;5;66;03m# pragma: no cover\u001b[39;00m\n\u001b[1;32m    442\u001b[0m     \u001b[38;5;28;01mraise\u001b[39;00m \u001b[38;5;167;01mNotImplementedError\u001b[39;00m(\n\u001b[1;32m    443\u001b[0m         \u001b[38;5;124m\"\u001b[39m\u001b[38;5;124mAsync query is not supported in stored procedure yet\u001b[39m\u001b[38;5;124m\"\u001b[39m\n\u001b[1;32m    444\u001b[0m     )\n\u001b[0;32m--> 445\u001b[0m result_set, result_meta \u001b[38;5;241m=\u001b[39m \u001b[38;5;28;43mself\u001b[39;49m\u001b[38;5;241;43m.\u001b[39;49m\u001b[43mget_result_set\u001b[49m\u001b[43m(\u001b[49m\n\u001b[1;32m    446\u001b[0m \u001b[43m    \u001b[49m\u001b[43mplan\u001b[49m\u001b[43m,\u001b[49m\n\u001b[1;32m    447\u001b[0m \u001b[43m    \u001b[49m\u001b[43mto_pandas\u001b[49m\u001b[43m,\u001b[49m\n\u001b[1;32m    448\u001b[0m \u001b[43m    \u001b[49m\u001b[43mto_iter\u001b[49m\u001b[43m,\u001b[49m\n\u001b[1;32m    449\u001b[0m \u001b[43m    \u001b[49m\u001b[38;5;241;43m*\u001b[39;49m\u001b[38;5;241;43m*\u001b[39;49m\u001b[43mkwargs\u001b[49m\u001b[43m,\u001b[49m\n\u001b[1;32m    450\u001b[0m \u001b[43m    \u001b[49m\u001b[43mblock\u001b[49m\u001b[38;5;241;43m=\u001b[39;49m\u001b[43mblock\u001b[49m\u001b[43m,\u001b[49m\n\u001b[1;32m    451\u001b[0m \u001b[43m    \u001b[49m\u001b[43mdata_type\u001b[49m\u001b[38;5;241;43m=\u001b[39;49m\u001b[43mdata_type\u001b[49m\u001b[43m,\u001b[49m\n\u001b[1;32m    452\u001b[0m \u001b[43m    \u001b[49m\u001b[43mlog_on_exception\u001b[49m\u001b[38;5;241;43m=\u001b[39;49m\u001b[43mlog_on_exception\u001b[49m\u001b[43m,\u001b[49m\n\u001b[1;32m    453\u001b[0m \u001b[43m    \u001b[49m\u001b[43mcase_sensitive\u001b[49m\u001b[38;5;241;43m=\u001b[39;49m\u001b[43mcase_sensitive\u001b[49m\u001b[43m,\u001b[49m\n\u001b[1;32m    454\u001b[0m \u001b[43m\u001b[49m\u001b[43m)\u001b[49m\n\u001b[1;32m    455\u001b[0m \u001b[38;5;28;01mif\u001b[39;00m \u001b[38;5;129;01mnot\u001b[39;00m block:\n\u001b[1;32m    456\u001b[0m     \u001b[38;5;28;01mreturn\u001b[39;00m result_set\n",
      "File \u001b[0;32m~/opt/anaconda3/envs/snowpark_gis/lib/python3.8/site-packages/snowflake/snowpark/_internal/analyzer/snowflake_plan.py:181\u001b[0m, in \u001b[0;36mSnowflakePlan.Decorator.wrap_exception.<locals>.wrap\u001b[0;34m(*args, **kwargs)\u001b[0m\n\u001b[1;32m    177\u001b[0m \u001b[38;5;28;01melse\u001b[39;00m:\n\u001b[1;32m    178\u001b[0m     ne \u001b[38;5;241m=\u001b[39m SnowparkClientExceptionMessages\u001b[38;5;241m.\u001b[39mSQL_EXCEPTION_FROM_PROGRAMMING_ERROR(\n\u001b[1;32m    179\u001b[0m         e\n\u001b[1;32m    180\u001b[0m     )\n\u001b[0;32m--> 181\u001b[0m     \u001b[38;5;28;01mraise\u001b[39;00m ne\u001b[38;5;241m.\u001b[39mwith_traceback(tb) \u001b[38;5;28;01mfrom\u001b[39;00m \u001b[38;5;28;01mNone\u001b[39;00m\n",
      "File \u001b[0;32m~/opt/anaconda3/envs/snowpark_gis/lib/python3.8/site-packages/snowflake/snowpark/_internal/analyzer/snowflake_plan.py:111\u001b[0m, in \u001b[0;36mSnowflakePlan.Decorator.wrap_exception.<locals>.wrap\u001b[0;34m(*args, **kwargs)\u001b[0m\n\u001b[1;32m    109\u001b[0m \u001b[38;5;28;01mdef\u001b[39;00m \u001b[38;5;21mwrap\u001b[39m(\u001b[38;5;241m*\u001b[39margs, \u001b[38;5;241m*\u001b[39m\u001b[38;5;241m*\u001b[39mkwargs):\n\u001b[1;32m    110\u001b[0m     \u001b[38;5;28;01mtry\u001b[39;00m:\n\u001b[0;32m--> 111\u001b[0m         \u001b[38;5;28;01mreturn\u001b[39;00m \u001b[43mfunc\u001b[49m\u001b[43m(\u001b[49m\u001b[38;5;241;43m*\u001b[39;49m\u001b[43margs\u001b[49m\u001b[43m,\u001b[49m\u001b[43m \u001b[49m\u001b[38;5;241;43m*\u001b[39;49m\u001b[38;5;241;43m*\u001b[39;49m\u001b[43mkwargs\u001b[49m\u001b[43m)\u001b[49m\n\u001b[1;32m    112\u001b[0m     \u001b[38;5;28;01mexcept\u001b[39;00m snowflake\u001b[38;5;241m.\u001b[39mconnector\u001b[38;5;241m.\u001b[39merrors\u001b[38;5;241m.\u001b[39mProgrammingError \u001b[38;5;28;01mas\u001b[39;00m e:\n\u001b[1;32m    113\u001b[0m         query \u001b[38;5;241m=\u001b[39m \u001b[38;5;28;01mNone\u001b[39;00m\n",
      "File \u001b[0;32m~/opt/anaconda3/envs/snowpark_gis/lib/python3.8/site-packages/snowflake/snowpark/_internal/server_connection.py:546\u001b[0m, in \u001b[0;36mServerConnection.get_result_set\u001b[0;34m(self, plan, to_pandas, to_iter, block, data_type, log_on_exception, case_sensitive, **kwargs)\u001b[0m\n\u001b[1;32m    544\u001b[0m \u001b[38;5;28;01mfor\u001b[39;00m holder, id_ \u001b[38;5;129;01min\u001b[39;00m placeholders\u001b[38;5;241m.\u001b[39mitems():\n\u001b[1;32m    545\u001b[0m     final_query \u001b[38;5;241m=\u001b[39m final_query\u001b[38;5;241m.\u001b[39mreplace(holder, id_)\n\u001b[0;32m--> 546\u001b[0m result \u001b[38;5;241m=\u001b[39m \u001b[38;5;28;43mself\u001b[39;49m\u001b[38;5;241;43m.\u001b[39;49m\u001b[43mrun_query\u001b[49m\u001b[43m(\u001b[49m\n\u001b[1;32m    547\u001b[0m \u001b[43m    \u001b[49m\u001b[43mfinal_query\u001b[49m\u001b[43m,\u001b[49m\n\u001b[1;32m    548\u001b[0m \u001b[43m    \u001b[49m\u001b[43mto_pandas\u001b[49m\u001b[43m,\u001b[49m\n\u001b[1;32m    549\u001b[0m \u001b[43m    \u001b[49m\u001b[43mto_iter\u001b[49m\u001b[43m \u001b[49m\u001b[38;5;129;43;01mand\u001b[39;49;00m\u001b[43m \u001b[49m\u001b[43m(\u001b[49m\u001b[43mi\u001b[49m\u001b[43m \u001b[49m\u001b[38;5;241;43m==\u001b[39;49m\u001b[43m \u001b[49m\u001b[38;5;28;43mlen\u001b[39;49m\u001b[43m(\u001b[49m\u001b[43mplan\u001b[49m\u001b[38;5;241;43m.\u001b[39;49m\u001b[43mqueries\u001b[49m\u001b[43m)\u001b[49m\u001b[43m \u001b[49m\u001b[38;5;241;43m-\u001b[39;49m\u001b[43m \u001b[49m\u001b[38;5;241;43m1\u001b[39;49m\u001b[43m)\u001b[49m\u001b[43m,\u001b[49m\n\u001b[1;32m    550\u001b[0m \u001b[43m    \u001b[49m\u001b[43mis_ddl_on_temp_object\u001b[49m\u001b[38;5;241;43m=\u001b[39;49m\u001b[43mquery\u001b[49m\u001b[38;5;241;43m.\u001b[39;49m\u001b[43mis_ddl_on_temp_object\u001b[49m\u001b[43m,\u001b[49m\n\u001b[1;32m    551\u001b[0m \u001b[43m    \u001b[49m\u001b[43mblock\u001b[49m\u001b[38;5;241;43m=\u001b[39;49m\u001b[38;5;129;43;01mnot\u001b[39;49;00m\u001b[43m \u001b[49m\u001b[43mis_last\u001b[49m\u001b[43m,\u001b[49m\n\u001b[1;32m    552\u001b[0m \u001b[43m    \u001b[49m\u001b[43mdata_type\u001b[49m\u001b[38;5;241;43m=\u001b[39;49m\u001b[43mdata_type\u001b[49m\u001b[43m,\u001b[49m\n\u001b[1;32m    553\u001b[0m \u001b[43m    \u001b[49m\u001b[43masync_job_plan\u001b[49m\u001b[38;5;241;43m=\u001b[39;49m\u001b[43mplan\u001b[49m\u001b[43m,\u001b[49m\n\u001b[1;32m    554\u001b[0m \u001b[43m    \u001b[49m\u001b[43mlog_on_exception\u001b[49m\u001b[38;5;241;43m=\u001b[39;49m\u001b[43mlog_on_exception\u001b[49m\u001b[43m,\u001b[49m\n\u001b[1;32m    555\u001b[0m \u001b[43m    \u001b[49m\u001b[43mcase_sensitive\u001b[49m\u001b[38;5;241;43m=\u001b[39;49m\u001b[43mcase_sensitive\u001b[49m\u001b[43m,\u001b[49m\n\u001b[1;32m    556\u001b[0m \u001b[43m    \u001b[49m\u001b[43mparams\u001b[49m\u001b[38;5;241;43m=\u001b[39;49m\u001b[43mquery\u001b[49m\u001b[38;5;241;43m.\u001b[39;49m\u001b[43mparams\u001b[49m\u001b[43m,\u001b[49m\n\u001b[1;32m    557\u001b[0m \u001b[43m    \u001b[49m\u001b[38;5;241;43m*\u001b[39;49m\u001b[38;5;241;43m*\u001b[39;49m\u001b[43mkwargs\u001b[49m\u001b[43m,\u001b[49m\n\u001b[1;32m    558\u001b[0m \u001b[43m\u001b[49m\u001b[43m)\u001b[49m\n\u001b[1;32m    559\u001b[0m placeholders[query\u001b[38;5;241m.\u001b[39mquery_id_place_holder] \u001b[38;5;241m=\u001b[39m (\n\u001b[1;32m    560\u001b[0m     result[\u001b[38;5;124m\"\u001b[39m\u001b[38;5;124msfqid\u001b[39m\u001b[38;5;124m\"\u001b[39m] \u001b[38;5;28;01mif\u001b[39;00m \u001b[38;5;129;01mnot\u001b[39;00m is_last \u001b[38;5;28;01melse\u001b[39;00m result\u001b[38;5;241m.\u001b[39mquery_id\n\u001b[1;32m    561\u001b[0m )\n\u001b[1;32m    562\u001b[0m result_meta \u001b[38;5;241m=\u001b[39m \u001b[38;5;28mself\u001b[39m\u001b[38;5;241m.\u001b[39m_cursor\u001b[38;5;241m.\u001b[39mdescription\n",
      "File \u001b[0;32m~/opt/anaconda3/envs/snowpark_gis/lib/python3.8/site-packages/snowflake/snowpark/_internal/server_connection.py:102\u001b[0m, in \u001b[0;36mServerConnection._Decorator.wrap_exception.<locals>.wrap\u001b[0;34m(*args, **kwargs)\u001b[0m\n\u001b[1;32m     98\u001b[0m     \u001b[38;5;28;01mraise\u001b[39;00m SnowparkClientExceptionMessages\u001b[38;5;241m.\u001b[39mSERVER_SESSION_EXPIRED(\n\u001b[1;32m     99\u001b[0m         ex\u001b[38;5;241m.\u001b[39mcause\n\u001b[1;32m    100\u001b[0m     )\n\u001b[1;32m    101\u001b[0m \u001b[38;5;28;01mexcept\u001b[39;00m \u001b[38;5;167;01mException\u001b[39;00m \u001b[38;5;28;01mas\u001b[39;00m ex:\n\u001b[0;32m--> 102\u001b[0m     \u001b[38;5;28;01mraise\u001b[39;00m ex\n",
      "File \u001b[0;32m~/opt/anaconda3/envs/snowpark_gis/lib/python3.8/site-packages/snowflake/snowpark/_internal/server_connection.py:96\u001b[0m, in \u001b[0;36mServerConnection._Decorator.wrap_exception.<locals>.wrap\u001b[0;34m(*args, **kwargs)\u001b[0m\n\u001b[1;32m     94\u001b[0m     \u001b[38;5;28;01mraise\u001b[39;00m SnowparkClientExceptionMessages\u001b[38;5;241m.\u001b[39mSERVER_SESSION_HAS_BEEN_CLOSED()\n\u001b[1;32m     95\u001b[0m \u001b[38;5;28;01mtry\u001b[39;00m:\n\u001b[0;32m---> 96\u001b[0m     \u001b[38;5;28;01mreturn\u001b[39;00m \u001b[43mfunc\u001b[49m\u001b[43m(\u001b[49m\u001b[38;5;241;43m*\u001b[39;49m\u001b[43margs\u001b[49m\u001b[43m,\u001b[49m\u001b[43m \u001b[49m\u001b[38;5;241;43m*\u001b[39;49m\u001b[38;5;241;43m*\u001b[39;49m\u001b[43mkwargs\u001b[49m\u001b[43m)\u001b[49m\n\u001b[1;32m     97\u001b[0m \u001b[38;5;28;01mexcept\u001b[39;00m ReauthenticationRequest \u001b[38;5;28;01mas\u001b[39;00m ex:\n\u001b[1;32m     98\u001b[0m     \u001b[38;5;28;01mraise\u001b[39;00m SnowparkClientExceptionMessages\u001b[38;5;241m.\u001b[39mSERVER_SESSION_EXPIRED(\n\u001b[1;32m     99\u001b[0m         ex\u001b[38;5;241m.\u001b[39mcause\n\u001b[1;32m    100\u001b[0m     )\n",
      "File \u001b[0;32m~/opt/anaconda3/envs/snowpark_gis/lib/python3.8/site-packages/snowflake/snowpark/_internal/server_connection.py:366\u001b[0m, in \u001b[0;36mServerConnection.run_query\u001b[0;34m(self, query, to_pandas, to_iter, is_ddl_on_temp_object, block, data_type, async_job_plan, log_on_exception, case_sensitive, params, num_statements, **kwargs)\u001b[0m\n\u001b[1;32m    364\u001b[0m         query_id_log \u001b[38;5;241m=\u001b[39m \u001b[38;5;124mf\u001b[39m\u001b[38;5;124m\"\u001b[39m\u001b[38;5;124m [queryID: \u001b[39m\u001b[38;5;132;01m{\u001b[39;00mex\u001b[38;5;241m.\u001b[39msfqid\u001b[38;5;132;01m}\u001b[39;00m\u001b[38;5;124m]\u001b[39m\u001b[38;5;124m\"\u001b[39m \u001b[38;5;28;01mif\u001b[39;00m \u001b[38;5;28mhasattr\u001b[39m(ex, \u001b[38;5;124m\"\u001b[39m\u001b[38;5;124msfqid\u001b[39m\u001b[38;5;124m\"\u001b[39m) \u001b[38;5;28;01melse\u001b[39;00m \u001b[38;5;124m\"\u001b[39m\u001b[38;5;124m\"\u001b[39m\n\u001b[1;32m    365\u001b[0m         logger\u001b[38;5;241m.\u001b[39merror(\u001b[38;5;124mf\u001b[39m\u001b[38;5;124m\"\u001b[39m\u001b[38;5;124mFailed to execute query\u001b[39m\u001b[38;5;132;01m{\u001b[39;00mquery_id_log\u001b[38;5;132;01m}\u001b[39;00m\u001b[38;5;124m \u001b[39m\u001b[38;5;132;01m{\u001b[39;00mquery\u001b[38;5;132;01m}\u001b[39;00m\u001b[38;5;130;01m\\n\u001b[39;00m\u001b[38;5;132;01m{\u001b[39;00mex\u001b[38;5;132;01m}\u001b[39;00m\u001b[38;5;124m\"\u001b[39m)\n\u001b[0;32m--> 366\u001b[0m     \u001b[38;5;28;01mraise\u001b[39;00m ex\n\u001b[1;32m    368\u001b[0m \u001b[38;5;66;03m# fetch_pandas_all/batches() only works for SELECT statements\u001b[39;00m\n\u001b[1;32m    369\u001b[0m \u001b[38;5;66;03m# We call fetchall() if fetch_pandas_all/batches() fails,\u001b[39;00m\n\u001b[1;32m    370\u001b[0m \u001b[38;5;66;03m# because when the query plan has multiple queries, it will\u001b[39;00m\n\u001b[1;32m    371\u001b[0m \u001b[38;5;66;03m# have non-select statements, and it shouldn't fail if the user\u001b[39;00m\n\u001b[1;32m    372\u001b[0m \u001b[38;5;66;03m# calls to_pandas() to execute the query.\u001b[39;00m\n\u001b[1;32m    373\u001b[0m \u001b[38;5;28;01mif\u001b[39;00m block:\n",
      "File \u001b[0;32m~/opt/anaconda3/envs/snowpark_gis/lib/python3.8/site-packages/snowflake/snowpark/_internal/server_connection.py:347\u001b[0m, in \u001b[0;36mServerConnection.run_query\u001b[0;34m(self, query, to_pandas, to_iter, is_ddl_on_temp_object, block, data_type, async_job_plan, log_on_exception, case_sensitive, params, num_statements, **kwargs)\u001b[0m\n\u001b[1;32m    345\u001b[0m     kwargs[\u001b[38;5;124m\"\u001b[39m\u001b[38;5;124m_statement_params\u001b[39m\u001b[38;5;124m\"\u001b[39m][\u001b[38;5;124m\"\u001b[39m\u001b[38;5;124mSNOWPARK_SKIP_TXN_COMMIT_IN_DDL\u001b[39m\u001b[38;5;124m\"\u001b[39m] \u001b[38;5;241m=\u001b[39m \u001b[38;5;28;01mTrue\u001b[39;00m\n\u001b[1;32m    346\u001b[0m \u001b[38;5;28;01mif\u001b[39;00m block:\n\u001b[0;32m--> 347\u001b[0m     results_cursor \u001b[38;5;241m=\u001b[39m \u001b[38;5;28;43mself\u001b[39;49m\u001b[38;5;241;43m.\u001b[39;49m\u001b[43m_cursor\u001b[49m\u001b[38;5;241;43m.\u001b[39;49m\u001b[43mexecute\u001b[49m\u001b[43m(\u001b[49m\u001b[43mquery\u001b[49m\u001b[43m,\u001b[49m\u001b[43m \u001b[49m\u001b[43mparams\u001b[49m\u001b[38;5;241;43m=\u001b[39;49m\u001b[43mparams\u001b[49m\u001b[43m,\u001b[49m\u001b[43m \u001b[49m\u001b[38;5;241;43m*\u001b[39;49m\u001b[38;5;241;43m*\u001b[39;49m\u001b[43mkwargs\u001b[49m\u001b[43m)\u001b[49m\n\u001b[1;32m    348\u001b[0m     \u001b[38;5;28mself\u001b[39m\u001b[38;5;241m.\u001b[39mnotify_query_listeners(\n\u001b[1;32m    349\u001b[0m         QueryRecord(results_cursor\u001b[38;5;241m.\u001b[39msfqid, results_cursor\u001b[38;5;241m.\u001b[39mquery)\n\u001b[1;32m    350\u001b[0m     )\n\u001b[1;32m    351\u001b[0m     logger\u001b[38;5;241m.\u001b[39mdebug(\u001b[38;5;124mf\u001b[39m\u001b[38;5;124m\"\u001b[39m\u001b[38;5;124mExecute query [queryID: \u001b[39m\u001b[38;5;132;01m{\u001b[39;00mresults_cursor\u001b[38;5;241m.\u001b[39msfqid\u001b[38;5;132;01m}\u001b[39;00m\u001b[38;5;124m] \u001b[39m\u001b[38;5;132;01m{\u001b[39;00mquery\u001b[38;5;132;01m}\u001b[39;00m\u001b[38;5;124m\"\u001b[39m)\n",
      "File \u001b[0;32m~/opt/anaconda3/envs/snowpark_gis/lib/python3.8/site-packages/snowflake/connector/cursor.py:908\u001b[0m, in \u001b[0;36mSnowflakeCursor.execute\u001b[0;34m(self, command, params, _bind_stage, timeout, _exec_async, _no_retry, _do_reset, _put_callback, _put_azure_callback, _put_callback_output_stream, _get_callback, _get_azure_callback, _get_callback_output_stream, _show_progress_bar, _statement_params, _is_internal, _describe_only, _no_results, _is_put_get, _raise_put_get_error, _force_put_overwrite, _skip_upload_on_content_match, file_stream, num_statements)\u001b[0m\n\u001b[1;32m    904\u001b[0m     is_integrity_error \u001b[38;5;241m=\u001b[39m (\n\u001b[1;32m    905\u001b[0m         code \u001b[38;5;241m==\u001b[39m \u001b[38;5;124m\"\u001b[39m\u001b[38;5;124m100072\u001b[39m\u001b[38;5;124m\"\u001b[39m\n\u001b[1;32m    906\u001b[0m     )  \u001b[38;5;66;03m# NULL result in a non-nullable column\u001b[39;00m\n\u001b[1;32m    907\u001b[0m     error_class \u001b[38;5;241m=\u001b[39m IntegrityError \u001b[38;5;28;01mif\u001b[39;00m is_integrity_error \u001b[38;5;28;01melse\u001b[39;00m ProgrammingError\n\u001b[0;32m--> 908\u001b[0m     \u001b[43mError\u001b[49m\u001b[38;5;241;43m.\u001b[39;49m\u001b[43merrorhandler_wrapper\u001b[49m\u001b[43m(\u001b[49m\u001b[38;5;28;43mself\u001b[39;49m\u001b[38;5;241;43m.\u001b[39;49m\u001b[43mconnection\u001b[49m\u001b[43m,\u001b[49m\u001b[43m \u001b[49m\u001b[38;5;28;43mself\u001b[39;49m\u001b[43m,\u001b[49m\u001b[43m \u001b[49m\u001b[43merror_class\u001b[49m\u001b[43m,\u001b[49m\u001b[43m \u001b[49m\u001b[43merrvalue\u001b[49m\u001b[43m)\u001b[49m\n\u001b[1;32m    909\u001b[0m \u001b[38;5;28;01mreturn\u001b[39;00m \u001b[38;5;28mself\u001b[39m\n",
      "File \u001b[0;32m~/opt/anaconda3/envs/snowpark_gis/lib/python3.8/site-packages/snowflake/connector/errors.py:290\u001b[0m, in \u001b[0;36mError.errorhandler_wrapper\u001b[0;34m(connection, cursor, error_class, error_value)\u001b[0m\n\u001b[1;32m    267\u001b[0m \u001b[38;5;129m@staticmethod\u001b[39m\n\u001b[1;32m    268\u001b[0m \u001b[38;5;28;01mdef\u001b[39;00m \u001b[38;5;21merrorhandler_wrapper\u001b[39m(\n\u001b[1;32m    269\u001b[0m     connection: SnowflakeConnection \u001b[38;5;241m|\u001b[39m \u001b[38;5;28;01mNone\u001b[39;00m,\n\u001b[0;32m   (...)\u001b[0m\n\u001b[1;32m    272\u001b[0m     error_value: \u001b[38;5;28mdict\u001b[39m[\u001b[38;5;28mstr\u001b[39m, Any],\n\u001b[1;32m    273\u001b[0m ) \u001b[38;5;241m-\u001b[39m\u001b[38;5;241m>\u001b[39m \u001b[38;5;28;01mNone\u001b[39;00m:\n\u001b[1;32m    274\u001b[0m \u001b[38;5;250m    \u001b[39m\u001b[38;5;124;03m\"\"\"Error handler wrapper that calls the errorhandler method.\u001b[39;00m\n\u001b[1;32m    275\u001b[0m \n\u001b[1;32m    276\u001b[0m \u001b[38;5;124;03m    Args:\u001b[39;00m\n\u001b[0;32m   (...)\u001b[0m\n\u001b[1;32m    287\u001b[0m \u001b[38;5;124;03m        exception to the first handler in that order.\u001b[39;00m\n\u001b[1;32m    288\u001b[0m \u001b[38;5;124;03m    \"\"\"\u001b[39;00m\n\u001b[0;32m--> 290\u001b[0m     handed_over \u001b[38;5;241m=\u001b[39m \u001b[43mError\u001b[49m\u001b[38;5;241;43m.\u001b[39;49m\u001b[43mhand_to_other_handler\u001b[49m\u001b[43m(\u001b[49m\n\u001b[1;32m    291\u001b[0m \u001b[43m        \u001b[49m\u001b[43mconnection\u001b[49m\u001b[43m,\u001b[49m\n\u001b[1;32m    292\u001b[0m \u001b[43m        \u001b[49m\u001b[43mcursor\u001b[49m\u001b[43m,\u001b[49m\n\u001b[1;32m    293\u001b[0m \u001b[43m        \u001b[49m\u001b[43merror_class\u001b[49m\u001b[43m,\u001b[49m\n\u001b[1;32m    294\u001b[0m \u001b[43m        \u001b[49m\u001b[43merror_value\u001b[49m\u001b[43m,\u001b[49m\n\u001b[1;32m    295\u001b[0m \u001b[43m    \u001b[49m\u001b[43m)\u001b[49m\n\u001b[1;32m    296\u001b[0m     \u001b[38;5;28;01mif\u001b[39;00m \u001b[38;5;129;01mnot\u001b[39;00m handed_over:\n\u001b[1;32m    297\u001b[0m         \u001b[38;5;28;01mraise\u001b[39;00m Error\u001b[38;5;241m.\u001b[39merrorhandler_make_exception(\n\u001b[1;32m    298\u001b[0m             error_class,\n\u001b[1;32m    299\u001b[0m             error_value,\n\u001b[1;32m    300\u001b[0m         )\n",
      "File \u001b[0;32m~/opt/anaconda3/envs/snowpark_gis/lib/python3.8/site-packages/snowflake/connector/errors.py:345\u001b[0m, in \u001b[0;36mError.hand_to_other_handler\u001b[0;34m(connection, cursor, error_class, error_value)\u001b[0m\n\u001b[1;32m    343\u001b[0m \u001b[38;5;28;01mif\u001b[39;00m cursor \u001b[38;5;129;01mis\u001b[39;00m \u001b[38;5;129;01mnot\u001b[39;00m \u001b[38;5;28;01mNone\u001b[39;00m:\n\u001b[1;32m    344\u001b[0m     cursor\u001b[38;5;241m.\u001b[39mmessages\u001b[38;5;241m.\u001b[39mappend((error_class, error_value))\n\u001b[0;32m--> 345\u001b[0m     \u001b[43mcursor\u001b[49m\u001b[38;5;241;43m.\u001b[39;49m\u001b[43merrorhandler\u001b[49m\u001b[43m(\u001b[49m\u001b[43mconnection\u001b[49m\u001b[43m,\u001b[49m\u001b[43m \u001b[49m\u001b[43mcursor\u001b[49m\u001b[43m,\u001b[49m\u001b[43m \u001b[49m\u001b[43merror_class\u001b[49m\u001b[43m,\u001b[49m\u001b[43m \u001b[49m\u001b[43merror_value\u001b[49m\u001b[43m)\u001b[49m\n\u001b[1;32m    346\u001b[0m     \u001b[38;5;28;01mreturn\u001b[39;00m \u001b[38;5;28;01mTrue\u001b[39;00m\n\u001b[1;32m    347\u001b[0m \u001b[38;5;28;01melif\u001b[39;00m connection \u001b[38;5;129;01mis\u001b[39;00m \u001b[38;5;129;01mnot\u001b[39;00m \u001b[38;5;28;01mNone\u001b[39;00m:\n",
      "File \u001b[0;32m~/opt/anaconda3/envs/snowpark_gis/lib/python3.8/site-packages/snowflake/connector/errors.py:221\u001b[0m, in \u001b[0;36mError.default_errorhandler\u001b[0;34m(connection, cursor, error_class, error_value)\u001b[0m\n\u001b[1;32m    219\u001b[0m errno \u001b[38;5;241m=\u001b[39m error_value\u001b[38;5;241m.\u001b[39mget(\u001b[38;5;124m\"\u001b[39m\u001b[38;5;124merrno\u001b[39m\u001b[38;5;124m\"\u001b[39m)\n\u001b[1;32m    220\u001b[0m done_format_msg \u001b[38;5;241m=\u001b[39m error_value\u001b[38;5;241m.\u001b[39mget(\u001b[38;5;124m\"\u001b[39m\u001b[38;5;124mdone_format_msg\u001b[39m\u001b[38;5;124m\"\u001b[39m)\n\u001b[0;32m--> 221\u001b[0m \u001b[38;5;28;01mraise\u001b[39;00m error_class(\n\u001b[1;32m    222\u001b[0m     msg\u001b[38;5;241m=\u001b[39merror_value\u001b[38;5;241m.\u001b[39mget(\u001b[38;5;124m\"\u001b[39m\u001b[38;5;124mmsg\u001b[39m\u001b[38;5;124m\"\u001b[39m),\n\u001b[1;32m    223\u001b[0m     errno\u001b[38;5;241m=\u001b[39m\u001b[38;5;28;01mNone\u001b[39;00m \u001b[38;5;28;01mif\u001b[39;00m errno \u001b[38;5;129;01mis\u001b[39;00m \u001b[38;5;28;01mNone\u001b[39;00m \u001b[38;5;28;01melse\u001b[39;00m \u001b[38;5;28mint\u001b[39m(errno),\n\u001b[1;32m    224\u001b[0m     sqlstate\u001b[38;5;241m=\u001b[39merror_value\u001b[38;5;241m.\u001b[39mget(\u001b[38;5;124m\"\u001b[39m\u001b[38;5;124msqlstate\u001b[39m\u001b[38;5;124m\"\u001b[39m),\n\u001b[1;32m    225\u001b[0m     sfqid\u001b[38;5;241m=\u001b[39merror_value\u001b[38;5;241m.\u001b[39mget(\u001b[38;5;124m\"\u001b[39m\u001b[38;5;124msfqid\u001b[39m\u001b[38;5;124m\"\u001b[39m),\n\u001b[1;32m    226\u001b[0m     query\u001b[38;5;241m=\u001b[39merror_value\u001b[38;5;241m.\u001b[39mget(\u001b[38;5;124m\"\u001b[39m\u001b[38;5;124mquery\u001b[39m\u001b[38;5;124m\"\u001b[39m),\n\u001b[1;32m    227\u001b[0m     done_format_msg\u001b[38;5;241m=\u001b[39m(\n\u001b[1;32m    228\u001b[0m         \u001b[38;5;28;01mNone\u001b[39;00m \u001b[38;5;28;01mif\u001b[39;00m done_format_msg \u001b[38;5;129;01mis\u001b[39;00m \u001b[38;5;28;01mNone\u001b[39;00m \u001b[38;5;28;01melse\u001b[39;00m \u001b[38;5;28mbool\u001b[39m(done_format_msg)\n\u001b[1;32m    229\u001b[0m     ),\n\u001b[1;32m    230\u001b[0m     connection\u001b[38;5;241m=\u001b[39mconnection,\n\u001b[1;32m    231\u001b[0m     cursor\u001b[38;5;241m=\u001b[39mcursor,\n\u001b[1;32m    232\u001b[0m )\n",
      "\u001b[0;31mSnowparkSQLException\u001b[0m: (1304): 01afc7a4-0000-9f64-0000-f1490048372a: 100357 (P0000): Python Interpreter Error:\nTraceback (most recent call last):\n  File \"_udf_code.py\", line 4, in <module>\n  File \"/usr/lib/python_udf/ba8972a674112c44f5ff7919df4637aff7052f43f0850f500ce5585cded9a06b/lib/python3.8/site-packages/cloudpickle/cloudpickle.py\", line 679, in subimport\n    __import__(name)\n  File \"/usr/lib/python_udf/ba8972a674112c44f5ff7919df4637aff7052f43f0850f500ce5585cded9a06b/lib/python3.8/site-packages/laspy/__init__.py\", line 6, in <module>\n    from .copc import CopcReader, Bounds\n  File \"/usr/lib/python_udf/ba8972a674112c44f5ff7919df4637aff7052f43f0850f500ce5585cded9a06b/lib/python3.8/site-packages/laspy/copc.py\", line 34, in <module>\n    DEFAULT_HTTP_WORKERS_NUM = multiprocessing.cpu_count() * 5\n  File \"/usr/lib/python_udf/ba8972a674112c44f5ff7919df4637aff7052f43f0850f500ce5585cded9a06b/lib/python3.8/multiprocessing/context.py\", line 45, in cpu_count\n    raise NotImplementedError('cannot determine number of cpus')\nNotImplementedError: cannot determine number of cpus\n in function SNOWPARK_TEMP_TABLE_FUNCTION_EHXT3RKZKJ with handler compute"
     ]
    }
   ],
   "source": [
    "%%time\n",
    "all_cols = sdf_final.columns\n",
    "sdf_prepped = sdf_final.select(laz_prep_udtf(*all_cols).over(partition_by=[\"SCOPED_URL\"]))\n",
    "sdf_prepped.limit(5).to_pandas()"
   ]
  },
  {
   "cell_type": "code",
   "execution_count": null,
   "id": "7a6f1d0d-befb-4159-9d1d-0a98a25dc3bd",
   "metadata": {},
   "outputs": [],
   "source": [
    "Blog\n",
    "\n",
    "Local\n",
    "\n",
    "SPROC\n",
    "\n",
    "Async SPROC\n",
    "\n",
    "UDTF\n",
    "\n",
    "Performance comparisons\n",
    "\n",
    "https://medium.com/@fabian.gampfer/scaling-pycaret-on-snowflake-snowpark-for-python-91b723d5f1ff"
   ]
  },
  {
   "cell_type": "markdown",
   "id": "b5214413-9828-4469-bb19-1298388a3e85",
   "metadata": {},
   "source": [
    "1. S3 access\n",
    "2. Python access (done, but maybe on a local jupyter/vscode)\n",
    "3. Import LAZ to snowflake single thread initially (Mike to sort Async calls)\n",
    "4. H3 grid for all(?) levels, Isaac to confirm appropriate levels\n",
    "5. Additional Table - Property ID, Long, Lat, centroid, ------we need to create----> HexIDs (at each level?)\n",
    "\n",
    "first assumption take the centroid and 3m hex(12-13), krings around until we reach a different terrain\n",
    "\n",
    "\n",
    "build big kring, take bottom 20% of height vs top 20% height, delta is the height\n",
    "\n",
    "from that  we can say the hexs for each property (see 5. above)\n",
    "\n",
    "6. we have prop boundary, so we can build prop height (min/max/median)"
   ]
  },
  {
   "cell_type": "code",
   "execution_count": null,
   "id": "1348e69e-2c52-4ed8-ae8a-3267b8a28dea",
   "metadata": {},
   "outputs": [],
   "source": []
  }
 ],
 "metadata": {
  "kernelspec": {
   "display_name": "Python 3 (ipykernel)",
   "language": "python",
   "name": "python3"
  },
  "language_info": {
   "codemirror_mode": {
    "name": "ipython",
    "version": 3
   },
   "file_extension": ".py",
   "mimetype": "text/x-python",
   "name": "python",
   "nbconvert_exporter": "python",
   "pygments_lexer": "ipython3",
   "version": "3.8.17"
  }
 },
 "nbformat": 4,
 "nbformat_minor": 5
}
