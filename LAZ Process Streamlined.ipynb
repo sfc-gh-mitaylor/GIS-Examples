{
 "cells": [
  {
   "cell_type": "markdown",
   "id": "34736c92-f093-4eca-a789-c8a7374f03a6",
   "metadata": {},
   "source": [
    "# LAZ Files At Scale\n",
    "\n",
    "0. Imports, session etc\n",
    "1. Set Up AWS S3\n",
    "2. Load Sync + Load Async\n",
    "3. Enrich with H3 including performance tests (or at least a nod to)\n"
   ]
  },
  {
   "cell_type": "markdown",
   "id": "648bb3e5-b304-40f1-bbfa-67eca72177a0",
   "metadata": {},
   "source": [
    "# 0. Imports, Create Session Etc."
   ]
  },
  {
   "cell_type": "code",
   "execution_count": 1,
   "id": "96414c40-5eb1-49fb-9783-0c1b6b4c1a95",
   "metadata": {},
   "outputs": [],
   "source": [
    "import json\n",
    "import numpy as np\n",
    "from snowflake.snowpark.session import Session\n",
    "from snowflake.snowpark.functions import sproc, col, round\n",
    "import snowflake.snowpark.functions as F\n",
    "import snowflake.snowpark.types as T\n",
    "import pandas as pd\n",
    "import os\n",
    "import sys"
   ]
  },
  {
   "cell_type": "code",
   "execution_count": 2,
   "id": "707c1009-abfd-4f38-aac9-882a85f64374",
   "metadata": {},
   "outputs": [],
   "source": [
    "from snowflake.snowpark import DataFrame"
   ]
  },
  {
   "cell_type": "code",
   "execution_count": 3,
   "id": "63b46c84-5277-47ec-8ba4-4ce28cde6820",
   "metadata": {},
   "outputs": [
    {
     "data": {
      "text/plain": [
       "[Row(status='Statement executed successfully.')]"
      ]
     },
     "execution_count": 3,
     "metadata": {},
     "output_type": "execute_result"
    }
   ],
   "source": [
    "snowflake_connection_cfg = json.loads(open(\"/Users/mitaylor/Documents/creds/creds.json\").read())\n",
    "aws_connection_cfg = json.loads(open(\"/Users/mitaylor/Documents/creds/aws_creds.json\").read())\n",
    "\n",
    "AWS_SECRET_KEY = aws_connection_cfg['password']\n",
    "AWS_KEY_ID = aws_connection_cfg['account']\n",
    "# Creating Snowpark Session\n",
    "session = Session.builder.configs(snowflake_connection_cfg).create()\n",
    "\n",
    "# Create a virtual warehouse, db and a stage for our ML models\n",
    "session.sql(\"CREATE OR REPLACE WAREHOUSE LAZ_VH WITH WAREHOUSE_SIZE='X-SMALL'\").collect()\n",
    "session.sql(\"USE DATABASE LAZ_DB\").collect()\n",
    "#session.sql(\"CREATE OR REPLACE DATABASE LAZ_DB\").collect()\n",
    "#session.sql(\"CREATE OR REPLACE STAGE PIPELINE\").collect()"
   ]
  },
  {
   "cell_type": "markdown",
   "id": "bf53493b-37c9-426a-9c13-70707b438c55",
   "metadata": {},
   "source": [
    "# 1. Setup AWS S3 Stage"
   ]
  },
  {
   "cell_type": "code",
   "execution_count": 4,
   "id": "6a98cfa3-dcbf-4d08-b2d8-5f71c2f7301e",
   "metadata": {},
   "outputs": [
    {
     "data": {
      "text/plain": [
       "[Row(status='Stage area LAZ_S3_STAGE successfully created.')]"
      ]
     },
     "execution_count": 4,
     "metadata": {},
     "output_type": "execute_result"
    }
   ],
   "source": [
    "session.use_schema('PUBLIC')\n",
    "session.sql(f\"\"\"\n",
    "CREATE OR REPLACE STAGE LAZ_S3_STAGE \n",
    "URL = 's3://mtaylor-raw-data-store/laz'\n",
    "CREDENTIALS = (AWS_KEY_ID = '{AWS_KEY_ID}'  AWS_SECRET_KEY = '{AWS_SECRET_KEY}')\n",
    "file_format = (type = 'CSV' field_delimiter = ',');\n",
    "\"\"\").collect()"
   ]
  },
  {
   "cell_type": "code",
   "execution_count": 5,
   "id": "86143a96-4723-4c7a-83d8-773dd9deaa58",
   "metadata": {},
   "outputs": [
    {
     "data": {
      "text/plain": [
       "[Row(name='s3://mtaylor-raw-data-store/laz/TQ2080_P_9983_20150206_20150206.laz', size=12135892, md5='160f236219c5b34354508702cde549a2', last_modified='Mon, 31 Jul 2023 14:25:11 GMT'),\n",
       " Row(name='s3://mtaylor-raw-data-store/laz/TQ2082_P_9983_20150206_20150206.laz', size=11113655, md5='4dba0ace4ccbfa21f825fda13b2f3a8c', last_modified='Mon, 31 Jul 2023 14:27:51 GMT'),\n",
       " Row(name='s3://mtaylor-raw-data-store/laz/TQ2084_P_9983_20150206_20150206.laz', size=552357, md5='c89abbdf9da9e25a2b232210447b436f', last_modified='Mon, 31 Jul 2023 14:27:31 GMT'),\n",
       " Row(name='s3://mtaylor-raw-data-store/laz/TQ2280_P_9983_20150206_20150206.laz', size=7218310, md5='664d0c2b9963ba7d32ecc2fdd983ea92', last_modified='Mon, 31 Jul 2023 14:27:16 GMT'),\n",
       " Row(name='s3://mtaylor-raw-data-store/laz/TQ2282_P_9983_20150206_20150206.laz', size=35108512, md5='fb084d58a1acc43f890fffb8d54c2f45-3', last_modified='Mon, 31 Jul 2023 14:25:07 GMT'),\n",
       " Row(name='s3://mtaylor-raw-data-store/laz/TQ2284_P_9983_20150206_20150206.laz', size=28803653, md5='2b3c1ab85886e00b32c421be1c986d61-2', last_modified='Mon, 31 Jul 2023 14:25:07 GMT'),\n",
       " Row(name='s3://mtaylor-raw-data-store/laz/TQ2286_P_9983_20150206_20150206.laz', size=4307912, md5='1a092a0fd37d105f377f55752998c0d1', last_modified='Mon, 31 Jul 2023 14:26:17 GMT'),\n",
       " Row(name='s3://mtaylor-raw-data-store/laz/TQ2480_P_9983_20150206_20150206.laz', size=1785829, md5='212a25b22399d38bdb196017775a2e6a', last_modified='Mon, 31 Jul 2023 14:25:54 GMT'),\n",
       " Row(name='s3://mtaylor-raw-data-store/laz/TQ2482_P_9983_20150206_20150206.laz', size=32291531, md5='5f90b411dc664c6c47307c240c560de3-2', last_modified='Mon, 31 Jul 2023 14:25:07 GMT'),\n",
       " Row(name='s3://mtaylor-raw-data-store/laz/TQ2484_P_9983_20150206_20150206.laz', size=38356034, md5='57f4e2ee6d8a614bfca178928d2df930-3', last_modified='Mon, 31 Jul 2023 14:25:07 GMT'),\n",
       " Row(name='s3://mtaylor-raw-data-store/laz/TQ2486_P_9983_20150206_20150206.laz', size=35477403, md5='5a3e94138bcf89b0d914e6f9006ad330-3', last_modified='Mon, 31 Jul 2023 14:25:07 GMT'),\n",
       " Row(name='s3://mtaylor-raw-data-store/laz/TQ2488_P_9983_20150206_20150206.laz', size=15962526, md5='bb746cc93f2e9be9b80be4c455950479', last_modified='Mon, 31 Jul 2023 14:25:24 GMT'),\n",
       " Row(name='s3://mtaylor-raw-data-store/laz/TQ2680_P_9983_20150206_20150206.laz', size=1872869, md5='be2f859d99bd27e5fc8382babf1e25b3', last_modified='Mon, 31 Jul 2023 14:25:21 GMT'),\n",
       " Row(name='s3://mtaylor-raw-data-store/laz/TQ2682_P_9983_20150206_20150206.laz', size=33857032, md5='64538aad8ce51fdae03957b3fa84760b-2', last_modified='Mon, 31 Jul 2023 14:25:07 GMT'),\n",
       " Row(name='s3://mtaylor-raw-data-store/laz/TQ2684_P_9983_20150206_20150206.laz', size=40341865, md5='17fdc9bf5e249683ba6f5e48ba5605f5-3', last_modified='Mon, 31 Jul 2023 14:25:07 GMT'),\n",
       " Row(name='s3://mtaylor-raw-data-store/laz/TQ2686_P_9983_20150206_20150206.laz', size=51336295, md5='c19d83d7406296b118de0ba691a90b27-3', last_modified='Mon, 31 Jul 2023 14:25:07 GMT'),\n",
       " Row(name='s3://mtaylor-raw-data-store/laz/TQ2688_P_9983_20150206_20150206.laz', size=44214070, md5='199cfccad4372ad97c202314ecaf24e0-3', last_modified='Mon, 31 Jul 2023 14:25:07 GMT'),\n",
       " Row(name='s3://mtaylor-raw-data-store/laz/TQ2880_P_9983_20150206_20150206.laz', size=1831013, md5='845784f36e3d949f96669efa26ff53f8', last_modified='Mon, 31 Jul 2023 14:25:16 GMT'),\n",
       " Row(name='s3://mtaylor-raw-data-store/laz/TQ2882_P_9983_20150206_20150206.laz', size=32866740, md5='26f001ca429dd21df8da38d338b40a0f-2', last_modified='Mon, 31 Jul 2023 14:25:07 GMT'),\n",
       " Row(name='s3://mtaylor-raw-data-store/laz/TQ2884_P_9983_20150206_20150206.laz', size=36206441, md5='35d8533b7b4c30198bf5732e964daa3d-3', last_modified='Mon, 31 Jul 2023 14:25:07 GMT'),\n",
       " Row(name='s3://mtaylor-raw-data-store/laz/TQ2886_P_9983_20150206_20150206.laz', size=38799934, md5='14fe24027c5ac478f70410dbefe0d4b6-3', last_modified='Mon, 31 Jul 2023 14:25:07 GMT'),\n",
       " Row(name='s3://mtaylor-raw-data-store/laz/TQ2888_P_9983_20150206_20150206.laz', size=67542382, md5='596aa701bb5869797e9b9b078ebd9d85-4', last_modified='Mon, 31 Jul 2023 14:25:07 GMT'),\n",
       " Row(name='s3://mtaylor-raw-data-store/laz/TQ3080_P_9983_20150206_20150206.laz', size=2007287, md5='89cfacf9dd29108abb21f4511593895c', last_modified='Mon, 31 Jul 2023 14:25:15 GMT'),\n",
       " Row(name='s3://mtaylor-raw-data-store/laz/TQ3082_P_9983_20150206_20150206.laz', size=31904006, md5='0c28ea5996f1b13d63ef070764740904-2', last_modified='Mon, 31 Jul 2023 14:25:07 GMT'),\n",
       " Row(name='s3://mtaylor-raw-data-store/laz/TQ3084_P_9983_20150206_20150206.laz', size=37173291, md5='002701dd61cd49b644f9cb10a41c4357-3', last_modified='Mon, 31 Jul 2023 14:25:07 GMT'),\n",
       " Row(name='s3://mtaylor-raw-data-store/laz/TQ3280_P_9983_20150206_20150206.laz', size=1751509, md5='3825c206466c5e017876046683a11791', last_modified='Mon, 31 Jul 2023 14:25:14 GMT'),\n",
       " Row(name='s3://mtaylor-raw-data-store/laz/TQ3282_P_9983_20150206_20150206.laz', size=30164491, md5='6cd14c9b576751d337d446376399c2c7-2', last_modified='Mon, 31 Jul 2023 14:25:07 GMT'),\n",
       " Row(name='s3://mtaylor-raw-data-store/laz/TQ3284_P_9983_20150206_20150206.laz', size=37213978, md5='709ef1ce364c38fd772b51a822db8657-3', last_modified='Mon, 31 Jul 2023 14:25:07 GMT'),\n",
       " Row(name='s3://mtaylor-raw-data-store/laz/TQ3480_P_9983_20150206_20150206.laz', size=1891951, md5='061415b7f07ae3e0a7b8b23ab8d2db95', last_modified='Mon, 31 Jul 2023 14:25:13 GMT'),\n",
       " Row(name='s3://mtaylor-raw-data-store/laz/TQ3482_P_9983_20150206_20150206.laz', size=29656131, md5='a258715cde6341e623828ce5bdcd79d3-2', last_modified='Mon, 31 Jul 2023 14:25:07 GMT'),\n",
       " Row(name='s3://mtaylor-raw-data-store/laz/TQ3484_P_9983_20150206_20150206.laz', size=18898336, md5='af6fe954a7b91bd694591be4255bc3d4-2', last_modified='Mon, 31 Jul 2023 14:25:07 GMT')]"
      ]
     },
     "execution_count": 5,
     "metadata": {},
     "output_type": "execute_result"
    }
   ],
   "source": [
    "session.sql('LS @LAZ_S3_STAGE').collect()"
   ]
  },
  {
   "cell_type": "markdown",
   "id": "08721310-3474-4b5b-9e0c-4d017dfb73e4",
   "metadata": {},
   "source": [
    "# 2.1 Synchronous SPROC (fine for small file volumes)"
   ]
  },
  {
   "cell_type": "code",
   "execution_count": 8,
   "id": "0cf2b589-4aa4-47c0-b3fd-df9e871b0290",
   "metadata": {},
   "outputs": [
    {
     "name": "stderr",
     "output_type": "stream",
     "text": [
      "Package 'lazrs-python' is not installed in the local environment. Your UDF might not work when the package is installed on the server but not on your local environment.\n"
     ]
    }
   ],
   "source": [
    "@sproc(name='import_laz_sync', \n",
    "       packages=['snowflake-snowpark-python','laspy', 'lazrs-python', 'pyproj'], \n",
    "       is_permanent=True, \n",
    "       replace=True,\n",
    "       stage_location='@PIPELINE', \n",
    "       session=session)\n",
    "def import_laz_sync(session: Session, df_iloc_start: int, df_iloc_end: int) -> T.Variant:\n",
    "    from snowflake.snowpark.files import SnowflakeFile\n",
    "    import pandas as pd\n",
    "    from pyproj import Proj, transform\n",
    "    import pandas as pd\n",
    "    import laspy\n",
    "    \n",
    "    \n",
    "    v84 = Proj(proj=\"latlong\",towgs84=\"0,0,0\",ellps=\"WGS84\")\n",
    "    v36 = Proj(proj=\"latlong\", k=0.9996012717, ellps=\"airy\",\n",
    "            towgs84=\"446.448,-125.157,542.060,0.1502,0.2470,0.8421,-20.4894\")\n",
    "    vgrid = Proj(init=\"world:bng\")\n",
    "    \n",
    "    def vectorized_convert(df):\n",
    "        vlon36, vlat36 = vgrid(df['x'].values, \n",
    "                               df['y'].values, \n",
    "                               inverse=True)\n",
    "        converted = transform(v36, v84, vlon36, vlat36)\n",
    "        df['longitude'] = converted[0]\n",
    "        df['latitude'] = converted[1]\n",
    "        return df\n",
    "    \n",
    "    \n",
    "    scope = pd.DataFrame(session.sql('LS @LAZ_S3_STAGE').collect())\n",
    "    scope = scope.iloc[df_iloc_start:df_iloc_end,:]\n",
    "    \n",
    "    for row in range(len(scope)):\n",
    "        raw_url = scope.iloc[row][0].split('/laz')[1]\n",
    "        scoped_url = session.sql(f\"SELECT BUILD_SCOPED_FILE_URL( @MY_S3_TRAIN_STAGE , '{raw_url}')\").collect()[0][0]\n",
    "        with SnowflakeFile.open(scoped_url, 'rb') as f:\n",
    "            inFile = laspy.read(f)  \n",
    "            #Import LAS into numpy array (X=raw integer value x=scaled float value)\n",
    "            lidar_points = np.array((inFile.x,inFile.y,inFile.z,inFile.intensity,\n",
    "                           inFile.raw_classification,inFile.scan_angle_rank)).transpose()\n",
    "            \n",
    "            #Transform to pandas DataFrame\n",
    "            lidar_df=pd.DataFrame(lidar_points, columns=[\"x\",\"y\",\"z\",\"intensity\",\"classification\", \"scan_angle_rank\"])\n",
    "\n",
    "            #Update with Long/Lat\n",
    "            lidar_df = vectorized_convert(lidar_df)\n",
    "            \n",
    "            sdf = session.create_dataframe(lidar_df)\n",
    "            sdf.write.save_as_table(\"LIDAR_DATASET\", mode=\"append\") # do this async?\n",
    "            #session.write_pandas(lidar_df, table_name='LIDAR_DATASET', auto_create_table=True, overwrite=True)\n",
    "            \n",
    "    return (\"LAZ FILES INGESTED\")"
   ]
  },
  {
   "cell_type": "code",
   "execution_count": 9,
   "id": "95812818-b041-4468-bcbe-91da9fc13584",
   "metadata": {},
   "outputs": [
    {
     "name": "stdout",
     "output_type": "stream",
     "text": [
      "CPU times: user 27 ms, sys: 4.59 ms, total: 31.6 ms\n",
      "Wall time: 1min 1s\n"
     ]
    },
    {
     "data": {
      "text/plain": [
       "'\"LAZ FILES INGESTED\"'"
      ]
     },
     "execution_count": 9,
     "metadata": {},
     "output_type": "execute_result"
    }
   ],
   "source": [
    "%%time\n",
    "import_laz_sync(0,3)"
   ]
  },
  {
   "cell_type": "markdown",
   "id": "e0ad8686-c0ee-4385-a520-dbbf6f062661",
   "metadata": {},
   "source": [
    "# 2.2 Asynchronous SPROC (fine for small file volumes)\n",
    "\n",
    "Note we could be smarter here, divvy up the work based on the file sizes, but a long enough list should even out the problem"
   ]
  },
  {
   "cell_type": "code",
   "execution_count": 15,
   "id": "5d0b75d4-c118-4e84-95f7-33898d6b1294",
   "metadata": {},
   "outputs": [
    {
     "data": {
      "text/plain": [
       "8"
      ]
     },
     "execution_count": 15,
     "metadata": {},
     "output_type": "execute_result"
    }
   ],
   "source": [
    "from math import ceil\n",
    "file_count = len(pd.DataFrame(session.sql('LS @my_s3_train_stage').collect()))\n",
    "chunks = 4\n",
    "step_size = ceil(file_count/chunks)"
   ]
  },
  {
   "cell_type": "code",
   "execution_count": 17,
   "id": "a30d8fd5-da9b-46f8-a870-602ec15a45b0",
   "metadata": {},
   "outputs": [],
   "source": [
    "for i in range(0,file_count,step_size):\n",
    "    end = i + step_size\n",
    "    session.sql(f'''CALL import_laz_sync({i},{end})''').collect(block=False)"
   ]
  },
  {
   "cell_type": "markdown",
   "id": "a593f831-1bd6-41be-922e-1d97541e6533",
   "metadata": {},
   "source": [
    "# 3. Enrich With H3"
   ]
  },
  {
   "cell_type": "code",
   "execution_count": 18,
   "id": "9eba83f4-17eb-4d14-a834-2a112c7bfd73",
   "metadata": {},
   "outputs": [],
   "source": [
    "h3_sdf = session.sql('''\n",
    "select\n",
    "H3_LATLNG_TO_CELL(lidar_dataset_gis.\"longitude\", lidar_dataset_gis.\"latitude\", 12) as HEX12,\n",
    "H3_LATLNG_TO_CELL(lidar_dataset_gis.\"longitude\", lidar_dataset_gis.\"latitude\", 11) as HEX11,\n",
    "H3_LATLNG_TO_CELL(lidar_dataset_gis.\"longitude\", lidar_dataset_gis.\"latitude\", 10) as HEX10,\n",
    "H3_LATLNG_TO_CELL(lidar_dataset_gis.\"longitude\", lidar_dataset_gis.\"latitude\", 9) as HEX9,\n",
    "H3_LATLNG_TO_CELL(lidar_dataset_gis.\"longitude\", lidar_dataset_gis.\"latitude\", 8) as HEX8,\n",
    "H3_LATLNG_TO_CELL(lidar_dataset_gis.\"longitude\", lidar_dataset_gis.\"latitude\", 7) as HEX7,\n",
    "H3_LATLNG_TO_CELL(lidar_dataset_gis.\"longitude\", lidar_dataset_gis.\"latitude\", 6) as HEX6,\n",
    "\"z\",\"intensity\",\"classification\", \"scan_angle_rank\" from lidar_dataset_gis''')"
   ]
  },
  {
   "cell_type": "code",
   "execution_count": null,
   "id": "995d28b8-eff7-471c-9362-d968b20b73fd",
   "metadata": {},
   "outputs": [],
   "source": [
    "%%time\n",
    "h3_sdf.write.mode(\"overwrite\").save_as_table(\"LIDAR_DATASET_H3\")"
   ]
  },
  {
   "cell_type": "code",
   "execution_count": null,
   "id": "14a2d453-b0fe-47ae-9b77-dfafd84de855",
   "metadata": {},
   "outputs": [],
   "source": []
  }
 ],
 "metadata": {
  "kernelspec": {
   "display_name": "Python 3 (ipykernel)",
   "language": "python",
   "name": "python3"
  },
  "language_info": {
   "codemirror_mode": {
    "name": "ipython",
    "version": 3
   },
   "file_extension": ".py",
   "mimetype": "text/x-python",
   "name": "python",
   "nbconvert_exporter": "python",
   "pygments_lexer": "ipython3",
   "version": "3.9.19"
  }
 },
 "nbformat": 4,
 "nbformat_minor": 5
}
